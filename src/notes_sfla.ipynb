{
 "cells": [
  {
   "cell_type": "markdown",
   "metadata": {},
   "source": [
    "### Comprobación del **\"Shuffled Frog Leaping Algorithm\"** (*SFLA*)"
   ]
  },
  {
   "cell_type": "code",
   "execution_count": 39,
   "metadata": {},
   "outputs": [],
   "source": [
    "import pandas as pd\n",
    "import numpy as np\n",
    "from time import time \n",
    "\n",
    "from sfla import sfla\n",
    "from bounded_function import schaffer_no_2\n",
    "\n",
    "TOTAL_RUNS = 20"
   ]
  },
  {
   "cell_type": "markdown",
   "metadata": {},
   "source": [
    "##### Función de Schaffer No. 2"
   ]
  },
  {
   "cell_type": "code",
   "execution_count": 40,
   "metadata": {},
   "outputs": [],
   "source": [
    "objective_function = lambda X: schaffer_no_2(X[0], X[1])\n",
    "actual_minimum = 0\n",
    "actual_optimum = (0, 0)\n",
    "\n",
    "durations = []\n",
    "minimum_errors = []\n",
    "optimum_errors = []\n",
    "\n",
    "for i in range(TOTAL_RUNS):\n",
    "    start = time()\n",
    "    optimum, minimum = sfla(\n",
    "        objective_function, \n",
    "        10, # Total de memeplexes\n",
    "        10, # Ranas por memeplexes\n",
    "        2, # Dimensión del dominio de la función\n",
    "        6, # Número de iteraciones por memeplex\n",
    "        6, # Tamaño de los submemeplexes\n",
    "        100, # Longitud máxima de un paso al intentar mejorar a la peor rana\n",
    "        (-100, 100), # Cotas\n",
    "        100, # Total iteraciones estables\n",
    "        0.000000001 # Umbral de estabilidad\n",
    "    )\n",
    "    end = time()\n",
    "\n",
    "    duration = end - start\n",
    "    minimum_error = abs(minimum - actual_minimum)\n",
    "    optimum_error = np.linalg.norm(np.array(optimum) - np.array(actual_optimum))\n",
    "\n",
    "    durations.append(duration)\n",
    "    minimum_errors.append(minimum_error)\n",
    "    optimum_errors.append(optimum_error)"
   ]
  },
  {
   "cell_type": "code",
   "execution_count": 41,
   "metadata": {},
   "outputs": [],
   "source": [
    "median_duration = np.median(duration)\n",
    "mean_duration = np.mean(duration)\n",
    "std_duration = np.std(duration)\n",
    "\n",
    "median_minimum_error = np.median(minimum_errors)\n",
    "mean_minimum_error = np.mean(minimum_errors)\n",
    "std_minimum_error = np.std(minimum_errors)\n",
    "\n",
    "median_optimum_error = np.median(optimum_errors)\n",
    "mean_optimum_error = np.mean(optimum_errors)\n",
    "std_optimum_error = np.std(optimum_errors)"
   ]
  },
  {
   "cell_type": "code",
   "execution_count": 42,
   "metadata": {},
   "outputs": [
    {
     "data": {
      "text/html": [
       "<div>\n",
       "<style scoped>\n",
       "    .dataframe tbody tr th:only-of-type {\n",
       "        vertical-align: middle;\n",
       "    }\n",
       "\n",
       "    .dataframe tbody tr th {\n",
       "        vertical-align: top;\n",
       "    }\n",
       "\n",
       "    .dataframe thead th {\n",
       "        text-align: right;\n",
       "    }\n",
       "</style>\n",
       "<table border=\"1\" class=\"dataframe\">\n",
       "  <thead>\n",
       "    <tr style=\"text-align: right;\">\n",
       "      <th></th>\n",
       "      <th>Mean</th>\n",
       "      <th>Median</th>\n",
       "      <th>Std Dev</th>\n",
       "    </tr>\n",
       "  </thead>\n",
       "  <tbody>\n",
       "    <tr>\n",
       "      <th>Duración</th>\n",
       "      <td>8.609540e-01</td>\n",
       "      <td>0.860954</td>\n",
       "      <td>0.000000e+00</td>\n",
       "    </tr>\n",
       "    <tr>\n",
       "      <th>Error c.r. Mínimo</th>\n",
       "      <td>3.870115e-12</td>\n",
       "      <td>0.000000</td>\n",
       "      <td>1.658016e-11</td>\n",
       "    </tr>\n",
       "    <tr>\n",
       "      <th>Error c.r. Óptimo</th>\n",
       "      <td>2.104222e-03</td>\n",
       "      <td>0.000517</td>\n",
       "      <td>4.362776e-03</td>\n",
       "    </tr>\n",
       "  </tbody>\n",
       "</table>\n",
       "</div>"
      ],
      "text/plain": [
       "                           Mean    Median       Std Dev\n",
       "Duración           8.609540e-01  0.860954  0.000000e+00\n",
       "Error c.r. Mínimo  3.870115e-12  0.000000  1.658016e-11\n",
       "Error c.r. Óptimo  2.104222e-03  0.000517  4.362776e-03"
      ]
     },
     "execution_count": 42,
     "metadata": {},
     "output_type": "execute_result"
    }
   ],
   "source": [
    "# Summary statistics\n",
    "summary = pd.DataFrame({\n",
    "    'Mean': [mean_duration, mean_minimum_error, mean_optimum_error],\n",
    "    'Median': [median_duration, median_minimum_error, median_optimum_error],\n",
    "    'Std Dev': [std_duration, std_minimum_error, std_optimum_error]\n",
    "}, index=['Duración', 'Error c.r. Mínimo', 'Error c.r. Óptimo'])\n",
    "\n",
    "summary\n"
   ]
  }
 ],
 "metadata": {
  "kernelspec": {
   "display_name": "Python 3",
   "language": "python",
   "name": "python3"
  },
  "language_info": {
   "codemirror_mode": {
    "name": "ipython",
    "version": 3
   },
   "file_extension": ".py",
   "mimetype": "text/x-python",
   "name": "python",
   "nbconvert_exporter": "python",
   "pygments_lexer": "ipython3",
   "version": "3.10.12"
  }
 },
 "nbformat": 4,
 "nbformat_minor": 2
}
