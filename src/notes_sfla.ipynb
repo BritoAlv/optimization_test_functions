{
 "cells": [
  {
   "cell_type": "markdown",
   "metadata": {},
   "source": [
    "### Comprobación del **\"Shuffled Frog Leaping Algorithm\"** (*SFLA*)"
   ]
  },
  {
   "cell_type": "code",
   "execution_count": 1,
   "metadata": {},
   "outputs": [],
   "source": [
    "import numpy as np\n",
    "from time import time \n",
    "\n",
    "from sfla import sfla\n",
    "from bounded_function import schaffer_no_2"
   ]
  },
  {
   "cell_type": "markdown",
   "metadata": {},
   "source": [
    "##### Función de Schaffer No. 2"
   ]
  },
  {
   "cell_type": "code",
   "execution_count": 23,
   "metadata": {},
   "outputs": [
    {
     "name": "stdout",
     "output_type": "stream",
     "text": [
      "Mínimo real: 0 | Mínimo alcanzado: 0.0\n",
      "Óptimo real: (0, 0) | Óptimo alcanzado: [-0.000372665265363727, -6.308725081994777e-05]\n"
     ]
    }
   ],
   "source": [
    "objective_function = lambda X: schaffer_no_2(X[0], X[1])\n",
    "actual_minimum = 0\n",
    "actual_optimum = (0, 0)\n",
    "\n",
    "durations = []\n",
    "minimum_errors = []\n",
    "optimum_errors = []\n",
    "\n",
    "for i in range(20):\n",
    "    start = time()\n",
    "    optimum, minimum = sfla(\n",
    "        objective_function, \n",
    "        10, # Total de memeplexes\n",
    "        10, # Ranas por memeplexes\n",
    "        2, # Dimensión del dominio de la función\n",
    "        6, # Número de iteraciones por memeplex\n",
    "        6, # Tamaño de los submemeplexes\n",
    "        100, # Longitud máxima de un paso al intentar mejorar a la peor rana\n",
    "        (-100, 100), # Cotas\n",
    "        100, # Total iteraciones estables\n",
    "        0.000000001 # Umbral de estabilidad\n",
    "    )\n",
    "    end = time()\n",
    "\n",
    "    duration = end - start\n",
    "    minimum_error = abs(minimum - actual_minimum)\n",
    "    optimum_error = np.linalg.norm(np.array(optimum) - np.array(actual_optimum))\n",
    "\n",
    "    durations.append(duration)\n",
    "    minimum_errors.append(minimum_error)\n",
    "    optimum_errors.append(optimum_error)"
   ]
  },
  {
   "cell_type": "code",
   "execution_count": 24,
   "metadata": {},
   "outputs": [
    {
     "data": {
      "text/plain": [
       "[1.5440981826486677e-12,\n",
       " 0.0,\n",
       " 0.0,\n",
       " 7.105427357601002e-15,\n",
       " 0.0,\n",
       " 0.0,\n",
       " 0.0,\n",
       " 0.0,\n",
       " 0.0,\n",
       " 4.460256053384626e-10,\n",
       " 0.0,\n",
       " 1.08213438210214e-12,\n",
       " 0.0,\n",
       " 0.0,\n",
       " 0.0,\n",
       " 0.0,\n",
       " 0.0,\n",
       " 4.6164627676148484e-11,\n",
       " 0.0,\n",
       " 0.0]"
      ]
     },
     "execution_count": 24,
     "metadata": {},
     "output_type": "execute_result"
    }
   ],
   "source": [
    "minimum_errors"
   ]
  },
  {
   "cell_type": "code",
   "execution_count": 26,
   "metadata": {},
   "outputs": [
    {
     "data": {
      "text/plain": [
       "[0.8911666870117188,\n",
       " 0.6908116340637207,\n",
       " 0.7386281490325928,\n",
       " 0.6821062564849854,\n",
       " 0.7448458671569824,\n",
       " 0.7711079120635986,\n",
       " 0.8307068347930908,\n",
       " 0.7664599418640137,\n",
       " 0.8573594093322754,\n",
       " 0.9367063045501709,\n",
       " 0.7233402729034424,\n",
       " 0.7701313495635986,\n",
       " 0.7099153995513916,\n",
       " 0.7697939872741699,\n",
       " 0.7696619033813477,\n",
       " 0.750004768371582,\n",
       " 0.7804524898529053,\n",
       " 0.7591173648834229,\n",
       " 0.8402752876281738,\n",
       " 0.7813127040863037]"
      ]
     },
     "execution_count": 26,
     "metadata": {},
     "output_type": "execute_result"
    }
   ],
   "source": [
    "durations"
   ]
  },
  {
   "cell_type": "code",
   "execution_count": 25,
   "metadata": {},
   "outputs": [
    {
     "data": {
      "text/plain": [
       "[0.0074546875666646585,\n",
       " 0.0005287833420060224,\n",
       " 0.0004886894863195875,\n",
       " 0.001939720505422535,\n",
       " 0.0005272402008448318,\n",
       " 0.00010021673636194088,\n",
       " 0.0005271389212771177,\n",
       " 0.0005748229236840146,\n",
       " 0.00011416000027556868,\n",
       " 0.03072465448196925,\n",
       " 0.0003476470486443633,\n",
       " 0.00682063900637613,\n",
       " 0.0005128575724722578,\n",
       " 0.00020525713993283288,\n",
       " 0.00043683585274829456,\n",
       " 0.0005261490581865606,\n",
       " 0.0005608767596032423,\n",
       " 0.017430733936700974,\n",
       " 0.0003501112529346533,\n",
       " 0.00037796746053679814]"
      ]
     },
     "execution_count": 25,
     "metadata": {},
     "output_type": "execute_result"
    }
   ],
   "source": [
    "optimum_errors"
   ]
  }
 ],
 "metadata": {
  "kernelspec": {
   "display_name": "Python 3",
   "language": "python",
   "name": "python3"
  },
  "language_info": {
   "codemirror_mode": {
    "name": "ipython",
    "version": 3
   },
   "file_extension": ".py",
   "mimetype": "text/x-python",
   "name": "python",
   "nbconvert_exporter": "python",
   "pygments_lexer": "ipython3",
   "version": "3.10.12"
  }
 },
 "nbformat": 4,
 "nbformat_minor": 2
}
