{
 "cells": [
  {
   "cell_type": "markdown",
   "metadata": {},
   "source": [
    "### Comprobación del **\"Shuffled Frog Leaping Algorithm\"** (*SFLA*)"
   ]
  },
  {
   "cell_type": "code",
   "execution_count": 2,
   "metadata": {},
   "outputs": [],
   "source": [
    "import numpy as np\n",
    "from time import time \n",
    "\n",
    "from sfla import sfla\n",
    "from bounded_function import schaffer_no_2"
   ]
  },
  {
   "cell_type": "markdown",
   "metadata": {},
   "source": [
    "##### Comprobemos el \"Shuffled Frog Leaping Algorithm\" con la función de Schaffer No. 2"
   ]
  },
  {
   "cell_type": "code",
   "execution_count": 4,
   "metadata": {},
   "outputs": [
    {
     "name": "stdout",
     "output_type": "stream",
     "text": [
      "Mínimo real: 0 | Mínimo alcanzado: 0.0\n",
      "Óptimo real: (0, 0) | Óptimo alcanzado: [-0.00027793942670888843, 0.00028939061221884554]\n"
     ]
    }
   ],
   "source": [
    "objective_function = lambda X: schaffer_no_2(X[0], X[1])\n",
    "actual_minimum = 0\n",
    "actual_optimum = (0, 0)\n",
    "\n",
    "start = time()\n",
    "optimum, minimum = sfla(\n",
    "    objective_function, \n",
    "    10, # Total de memeplexes\n",
    "    10, # Ranas por memeplexes\n",
    "    2, # Dimensión del dominio de la función\n",
    "    6, # Número de iteraciones por memeplex\n",
    "    6, # Tamaño de los submemeplexes\n",
    "    100, # Longitud máxima de un paso al intentar mejorar a la peor rana\n",
    "    (-100, 100), # Cotas\n",
    "    100, # Total iteraciones estables\n",
    "    0.000000001 # Umbral de estabilidad\n",
    ")\n",
    "\n",
    "end = time()\n",
    "duration = end - start\n",
    "print(f'Mínimo real: {actual_minimum} | Mínimo alcanzado: {minimum}')\n",
    "print(f'Óptimo real: {actual_optimum} | Óptimo alcanzado: {optimum}')"
   ]
  },
  {
   "cell_type": "code",
   "execution_count": null,
   "metadata": {},
   "outputs": [],
   "source": []
  }
 ],
 "metadata": {
  "kernelspec": {
   "display_name": "Python 3",
   "language": "python",
   "name": "python3"
  },
  "language_info": {
   "codemirror_mode": {
    "name": "ipython",
    "version": 3
   },
   "file_extension": ".py",
   "mimetype": "text/x-python",
   "name": "python",
   "nbconvert_exporter": "python",
   "pygments_lexer": "ipython3",
   "version": "3.10.12"
  }
 },
 "nbformat": 4,
 "nbformat_minor": 2
}
