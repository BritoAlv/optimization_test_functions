{
 "cells": [
  {
   "cell_type": "markdown",
   "metadata": {},
   "source": [
    "### Comprobación del **\"Shuffled Frog Leaping Algorithm\"** (*SFLA*)"
   ]
  },
  {
   "cell_type": "code",
   "execution_count": 96,
   "metadata": {},
   "outputs": [],
   "source": [
    "import pandas as pd\n",
    "import numpy as np\n",
    "from time import time\n",
    "import math\n",
    "\n",
    "from sfla import sfla\n",
    "from bounded_function import schaffer_no_2, _ripple25\n",
    "\n",
    "TOTAL_RUNS = 20"
   ]
  },
  {
   "cell_type": "markdown",
   "metadata": {},
   "source": [
    "##### Función Schaffer No. 2"
   ]
  },
  {
   "cell_type": "code",
   "execution_count": 97,
   "metadata": {},
   "outputs": [],
   "source": [
    "objective_function = lambda X: schaffer_no_2(X[0], X[1])\n",
    "actual_minimum = 0\n",
    "actual_optimum = (0, 0)\n",
    "\n",
    "durations = []\n",
    "minimum_errors = []\n",
    "optimum_errors = []\n",
    "\n",
    "for i in range(TOTAL_RUNS):\n",
    "    start = time()\n",
    "    optimum, minimum = sfla(\n",
    "        objective_function, \n",
    "        10, # Total de memeplexes\n",
    "        10, # Ranas por memeplexes\n",
    "        2, # Dimensión del dominio de la función\n",
    "        6, # Número de iteraciones por memeplex\n",
    "        6, # Tamaño de los submemeplexes\n",
    "        100, # Longitud máxima de un paso al intentar mejorar a la peor rana\n",
    "        (-100, 100), # Cotas\n",
    "        100, # Total iteraciones estables\n",
    "        0.000000001 # Umbral de estabilidad\n",
    "    )\n",
    "    end = time()\n",
    "\n",
    "    duration = end - start\n",
    "    minimum_error = abs(minimum - actual_minimum)\n",
    "    optimum_error = np.linalg.norm(np.array(optimum) - np.array(actual_optimum))\n",
    "\n",
    "    durations.append(duration)\n",
    "    minimum_errors.append(minimum_error)\n",
    "    optimum_errors.append(optimum_error)"
   ]
  },
  {
   "cell_type": "code",
   "execution_count": 98,
   "metadata": {},
   "outputs": [],
   "source": [
    "median_duration = np.median(durations)\n",
    "mean_duration = np.mean(durations)\n",
    "std_duration = np.std(durations)\n",
    "\n",
    "median_minimum_error = np.median(minimum_errors)\n",
    "mean_minimum_error = np.mean(minimum_errors)\n",
    "std_minimum_error = np.std(minimum_errors)\n",
    "\n",
    "median_optimum_error = np.median(optimum_errors)\n",
    "mean_optimum_error = np.mean(optimum_errors)\n",
    "std_optimum_error = np.std(optimum_errors)"
   ]
  },
  {
   "cell_type": "code",
   "execution_count": 99,
   "metadata": {},
   "outputs": [
    {
     "data": {
      "text/html": [
       "<div>\n",
       "<style scoped>\n",
       "    .dataframe tbody tr th:only-of-type {\n",
       "        vertical-align: middle;\n",
       "    }\n",
       "\n",
       "    .dataframe tbody tr th {\n",
       "        vertical-align: top;\n",
       "    }\n",
       "\n",
       "    .dataframe thead th {\n",
       "        text-align: right;\n",
       "    }\n",
       "</style>\n",
       "<table border=\"1\" class=\"dataframe\">\n",
       "  <thead>\n",
       "    <tr style=\"text-align: right;\">\n",
       "      <th></th>\n",
       "      <th>Promedio</th>\n",
       "      <th>Mediana</th>\n",
       "      <th>Desv. Est.</th>\n",
       "    </tr>\n",
       "  </thead>\n",
       "  <tbody>\n",
       "    <tr>\n",
       "      <th>Duración</th>\n",
       "      <td>8.225629e-01</td>\n",
       "      <td>0.829541</td>\n",
       "      <td>5.321708e-02</td>\n",
       "    </tr>\n",
       "    <tr>\n",
       "      <th>Error c.r. Mínimo</th>\n",
       "      <td>2.254197e-13</td>\n",
       "      <td>0.000000</td>\n",
       "      <td>5.916055e-13</td>\n",
       "    </tr>\n",
       "    <tr>\n",
       "      <th>Error c.r. Óptimo</th>\n",
       "      <td>1.713987e-03</td>\n",
       "      <td>0.000506</td>\n",
       "      <td>2.481980e-03</td>\n",
       "    </tr>\n",
       "  </tbody>\n",
       "</table>\n",
       "</div>"
      ],
      "text/plain": [
       "                       Promedio   Mediana    Desv. Est.\n",
       "Duración           8.225629e-01  0.829541  5.321708e-02\n",
       "Error c.r. Mínimo  2.254197e-13  0.000000  5.916055e-13\n",
       "Error c.r. Óptimo  1.713987e-03  0.000506  2.481980e-03"
      ]
     },
     "execution_count": 99,
     "metadata": {},
     "output_type": "execute_result"
    }
   ],
   "source": [
    "# Summary statistics\n",
    "summary = pd.DataFrame({\n",
    "    'Promedio': [mean_duration, mean_minimum_error, mean_optimum_error],\n",
    "    'Mediana': [median_duration, median_minimum_error, median_optimum_error],\n",
    "    'Desv. Est.': [std_duration, std_minimum_error, std_optimum_error]\n",
    "}, index=['Duración', 'Error c.r. Mínimo', 'Error c.r. Óptimo'])\n",
    "\n",
    "summary\n"
   ]
  },
  {
   "cell_type": "markdown",
   "metadata": {},
   "source": [
    "##### Función Ripple No. 25"
   ]
  },
  {
   "cell_type": "code",
   "execution_count": 100,
   "metadata": {},
   "outputs": [],
   "source": [
    "objective_function = lambda X: _ripple25(X[0], X[1])\n",
    "actual_minimum = -2\n",
    "actual_optimum = (0.1, 0.1)\n",
    "\n",
    "durations = []\n",
    "minimum_errors = []\n",
    "optimum_errors = []\n",
    "\n",
    "for i in range(TOTAL_RUNS):\n",
    "    start = time()\n",
    "    optimum, minimum = sfla(\n",
    "        objective_function, \n",
    "        10, # Total de memeplexes\n",
    "        10, # Ranas por memeplexes\n",
    "        2, # Dimensión del dominio de la función\n",
    "        6, # Número de iteraciones por memeplex\n",
    "        6, # Tamaño de los submemeplexes\n",
    "        100, # Longitud máxima de un paso al intentar mejorar a la peor rana\n",
    "        (-100, 100), # Cotas\n",
    "        100, # Total iteraciones estables\n",
    "        0.000000001 # Umbral de estabilidad\n",
    "    )\n",
    "    end = time()\n",
    "\n",
    "    duration = end - start\n",
    "    minimum_error = abs(minimum - actual_minimum)\n",
    "    optimum_error = np.linalg.norm(np.array(optimum) - np.array(actual_optimum))\n",
    "\n",
    "    durations.append(duration)\n",
    "    minimum_errors.append(minimum_error)\n",
    "    optimum_errors.append(optimum_error)"
   ]
  },
  {
   "cell_type": "code",
   "execution_count": 101,
   "metadata": {},
   "outputs": [],
   "source": [
    "median_duration = np.median(durations)\n",
    "mean_duration = np.mean(durations)\n",
    "std_duration = np.std(durations)\n",
    "\n",
    "median_minimum_error = np.median(minimum_errors)\n",
    "mean_minimum_error = np.mean(minimum_errors)\n",
    "std_minimum_error = np.std(minimum_errors)\n",
    "\n",
    "median_optimum_error = np.median(optimum_errors)\n",
    "mean_optimum_error = np.mean(optimum_errors)\n",
    "std_optimum_error = np.std(optimum_errors)"
   ]
  },
  {
   "cell_type": "code",
   "execution_count": 102,
   "metadata": {},
   "outputs": [
    {
     "data": {
      "text/html": [
       "<div>\n",
       "<style scoped>\n",
       "    .dataframe tbody tr th:only-of-type {\n",
       "        vertical-align: middle;\n",
       "    }\n",
       "\n",
       "    .dataframe tbody tr th {\n",
       "        vertical-align: top;\n",
       "    }\n",
       "\n",
       "    .dataframe thead th {\n",
       "        text-align: right;\n",
       "    }\n",
       "</style>\n",
       "<table border=\"1\" class=\"dataframe\">\n",
       "  <thead>\n",
       "    <tr style=\"text-align: right;\">\n",
       "      <th></th>\n",
       "      <th>Promedio</th>\n",
       "      <th>Mediana</th>\n",
       "      <th>Desv. Est.</th>\n",
       "    </tr>\n",
       "  </thead>\n",
       "  <tbody>\n",
       "    <tr>\n",
       "      <th>Duración</th>\n",
       "      <td>4.556573</td>\n",
       "      <td>4.670639</td>\n",
       "      <td>1.574754</td>\n",
       "    </tr>\n",
       "    <tr>\n",
       "      <th>Error c.r. Mínimo</th>\n",
       "      <td>0.242336</td>\n",
       "      <td>0.013724</td>\n",
       "      <td>0.394811</td>\n",
       "    </tr>\n",
       "    <tr>\n",
       "      <th>Error c.r. Óptimo</th>\n",
       "      <td>6.462513</td>\n",
       "      <td>0.004308</td>\n",
       "      <td>13.730346</td>\n",
       "    </tr>\n",
       "  </tbody>\n",
       "</table>\n",
       "</div>"
      ],
      "text/plain": [
       "                   Promedio   Mediana  Desv. Est.\n",
       "Duración           4.556573  4.670639    1.574754\n",
       "Error c.r. Mínimo  0.242336  0.013724    0.394811\n",
       "Error c.r. Óptimo  6.462513  0.004308   13.730346"
      ]
     },
     "execution_count": 102,
     "metadata": {},
     "output_type": "execute_result"
    }
   ],
   "source": [
    "# Summary statistics\n",
    "summary = pd.DataFrame({\n",
    "    'Promedio': [mean_duration, mean_minimum_error, mean_optimum_error],\n",
    "    'Mediana': [median_duration, median_minimum_error, median_optimum_error],\n",
    "    'Desv. Est.': [std_duration, std_minimum_error, std_optimum_error]\n",
    "}, index=['Duración', 'Error c.r. Mínimo', 'Error c.r. Óptimo'])\n",
    "\n",
    "summary"
   ]
  },
  {
   "cell_type": "markdown",
   "metadata": {},
   "source": [
    "##### Función Mishra 7"
   ]
  },
  {
   "cell_type": "code",
   "execution_count": 103,
   "metadata": {},
   "outputs": [],
   "source": [
    "def mishra_7(x : tuple):\n",
    "    N = 5\n",
    "    return (math.prod(x) - math.factorial(N))**2\n",
    "\n",
    "objective_function = mishra_7\n",
    "actual_minimum = 0\n",
    "\n",
    "durations = []\n",
    "minimum_errors = []\n",
    "optimums = []\n",
    "\n",
    "for i in range(TOTAL_RUNS):\n",
    "    start = time()\n",
    "    optimum, minimum = sfla(\n",
    "        objective_function, \n",
    "        10, # Total de memeplexes\n",
    "        10, # Ranas por memeplexes\n",
    "        2, # Dimensión del dominio de la función\n",
    "        6, # Número de iteraciones por memeplex\n",
    "        6, # Tamaño de los submemeplexes\n",
    "        100, # Longitud máxima de un paso al intentar mejorar a la peor rana\n",
    "        (-100, 100), # Cotas\n",
    "        100, # Total iteraciones estables\n",
    "        0.000000001 # Umbral de estabilidad\n",
    "    )\n",
    "    end = time()\n",
    "\n",
    "    duration = end - start\n",
    "    minimum_error = abs(minimum - actual_minimum)\n",
    "    \n",
    "    durations.append(duration)\n",
    "    minimum_errors.append(minimum_error)\n",
    "    optimums.append(optimum)\n",
    "    \n",
    "optimums = np.array(optimums)"
   ]
  },
  {
   "cell_type": "code",
   "execution_count": 104,
   "metadata": {},
   "outputs": [],
   "source": [
    "median_duration = np.median(durations)\n",
    "mean_duration = np.mean(durations)\n",
    "std_duration = np.std(durations)\n",
    "\n",
    "median_minimum_error = np.median(minimum_errors)\n",
    "mean_minimum_error = np.mean(minimum_errors)\n",
    "std_minimum_error = np.std(minimum_errors)\n",
    "\n",
    "median_optimum = np.median(optimums, axis=0)\n",
    "mean_optimum = np.mean(optimums, axis=0)\n",
    "std_optimum = np.std(optimums, axis=0)"
   ]
  },
  {
   "cell_type": "code",
   "execution_count": 106,
   "metadata": {},
   "outputs": [
    {
     "data": {
      "text/html": [
       "<div>\n",
       "<style scoped>\n",
       "    .dataframe tbody tr th:only-of-type {\n",
       "        vertical-align: middle;\n",
       "    }\n",
       "\n",
       "    .dataframe tbody tr th {\n",
       "        vertical-align: top;\n",
       "    }\n",
       "\n",
       "    .dataframe thead th {\n",
       "        text-align: right;\n",
       "    }\n",
       "</style>\n",
       "<table border=\"1\" class=\"dataframe\">\n",
       "  <thead>\n",
       "    <tr style=\"text-align: right;\">\n",
       "      <th></th>\n",
       "      <th>Promedio</th>\n",
       "      <th>Mediana</th>\n",
       "      <th>Desv. Est.</th>\n",
       "    </tr>\n",
       "  </thead>\n",
       "  <tbody>\n",
       "    <tr>\n",
       "      <th>Duración</th>\n",
       "      <td>0.467391</td>\n",
       "      <td>0.4905</td>\n",
       "      <td>0.086242</td>\n",
       "    </tr>\n",
       "    <tr>\n",
       "      <th>Error c.r. Mínimo</th>\n",
       "      <td>0.0</td>\n",
       "      <td>0.0</td>\n",
       "      <td>0.000001</td>\n",
       "    </tr>\n",
       "    <tr>\n",
       "      <th>Óptimo</th>\n",
       "      <td>[-7.412683186726783, -4.663237236402525]</td>\n",
       "      <td>[-3.934251527156904, -1.6096476583443002]</td>\n",
       "      <td>[21.592306848019362, 14.655626484532265]</td>\n",
       "    </tr>\n",
       "  </tbody>\n",
       "</table>\n",
       "</div>"
      ],
      "text/plain": [
       "                                                   Promedio  \\\n",
       "Duración                                           0.467391   \n",
       "Error c.r. Mínimo                                       0.0   \n",
       "Óptimo             [-7.412683186726783, -4.663237236402525]   \n",
       "\n",
       "                                                     Mediana  \\\n",
       "Duración                                              0.4905   \n",
       "Error c.r. Mínimo                                        0.0   \n",
       "Óptimo             [-3.934251527156904, -1.6096476583443002]   \n",
       "\n",
       "                                                 Desv. Est.  \n",
       "Duración                                           0.086242  \n",
       "Error c.r. Mínimo                                  0.000001  \n",
       "Óptimo             [21.592306848019362, 14.655626484532265]  "
      ]
     },
     "execution_count": 106,
     "metadata": {},
     "output_type": "execute_result"
    }
   ],
   "source": [
    "# Summary statistics\n",
    "summary = pd.DataFrame({\n",
    "    'Promedio': [mean_duration, mean_minimum_error, median_optimum],\n",
    "    'Mediana': [median_duration, median_minimum_error, mean_optimum],\n",
    "    'Desv. Est.': [std_duration, std_minimum_error, std_optimum]\n",
    "}, index=['Duración', 'Error c.r. Mínimo', 'Óptimo'])\n",
    "\n",
    "summary"
   ]
  }
 ],
 "metadata": {
  "kernelspec": {
   "display_name": "Python 3",
   "language": "python",
   "name": "python3"
  },
  "language_info": {
   "codemirror_mode": {
    "name": "ipython",
    "version": 3
   },
   "file_extension": ".py",
   "mimetype": "text/x-python",
   "name": "python",
   "nbconvert_exporter": "python",
   "pygments_lexer": "ipython3",
   "version": "3.10.12"
  }
 },
 "nbformat": 4,
 "nbformat_minor": 2
}
