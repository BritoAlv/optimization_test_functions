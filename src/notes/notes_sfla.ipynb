{
 "cells": [
  {
   "cell_type": "markdown",
   "metadata": {},
   "source": [
    "### Comprobación del **\"Shuffled Frog Leaping Algorithm\"** (*SFLA*)"
   ]
  },
  {
   "cell_type": "code",
   "execution_count": 1,
   "metadata": {},
   "outputs": [],
   "source": [
    "import pandas as pd\n",
    "import numpy as np\n",
    "from time import time\n",
    "import math\n",
    "\n",
    "from plot.sfla import sfla\n",
    "from plot.bounded_function import schaffer_no_2, _ripple25\n",
    "\n",
    "TOTAL_RUNS = 20"
   ]
  },
  {
   "cell_type": "markdown",
   "metadata": {},
   "source": [
    "##### Función Schaffer No. 2"
   ]
  },
  {
   "cell_type": "code",
   "execution_count": 2,
   "metadata": {},
   "outputs": [],
   "source": [
    "objective_function = lambda X: schaffer_no_2(X[0], X[1])\n",
    "actual_minimum = 0\n",
    "actual_optimum = (0, 0)\n",
    "\n",
    "durations = []\n",
    "minimum_errors = []\n",
    "optimum_errors = []\n",
    "\n",
    "for i in range(TOTAL_RUNS):\n",
    "    start = time()\n",
    "    optimum, minimum = sfla(\n",
    "        objective_function, \n",
    "        10, # Total de memeplexes\n",
    "        10, # Ranas por memeplexes\n",
    "        2, # Dimensión del dominio de la función\n",
    "        6, # Número de iteraciones por memeplex\n",
    "        6, # Tamaño de los submemeplexes\n",
    "        100, # Longitud máxima de un paso al intentar mejorar a la peor rana\n",
    "        (-100, 100), # Cotas\n",
    "        100, # Total iteraciones estables\n",
    "        0.000000001 # Umbral de estabilidad\n",
    "    )\n",
    "    end = time()\n",
    "\n",
    "    duration = end - start\n",
    "    minimum_error = abs(minimum - actual_minimum)\n",
    "    optimum_error = np.linalg.norm(np.array(optimum) - np.array(actual_optimum))\n",
    "\n",
    "    durations.append(duration)\n",
    "    minimum_errors.append(minimum_error)\n",
    "    optimum_errors.append(optimum_error)"
   ]
  },
  {
   "cell_type": "code",
   "execution_count": 3,
   "metadata": {},
   "outputs": [],
   "source": [
    "median_duration = np.median(durations)\n",
    "mean_duration = np.mean(durations)\n",
    "std_duration = np.std(durations)\n",
    "\n",
    "median_minimum_error = np.median(minimum_errors)\n",
    "mean_minimum_error = np.mean(minimum_errors)\n",
    "std_minimum_error = np.std(minimum_errors)\n",
    "\n",
    "median_optimum_error = np.median(optimum_errors)\n",
    "mean_optimum_error = np.mean(optimum_errors)\n",
    "std_optimum_error = np.std(optimum_errors)"
   ]
  },
  {
   "cell_type": "code",
   "execution_count": 4,
   "metadata": {},
   "outputs": [
    {
     "data": {
      "text/html": [
       "<div>\n",
       "<style scoped>\n",
       "    .dataframe tbody tr th:only-of-type {\n",
       "        vertical-align: middle;\n",
       "    }\n",
       "\n",
       "    .dataframe tbody tr th {\n",
       "        vertical-align: top;\n",
       "    }\n",
       "\n",
       "    .dataframe thead th {\n",
       "        text-align: right;\n",
       "    }\n",
       "</style>\n",
       "<table border=\"1\" class=\"dataframe\">\n",
       "  <thead>\n",
       "    <tr style=\"text-align: right;\">\n",
       "      <th></th>\n",
       "      <th>Promedio</th>\n",
       "      <th>Mediana</th>\n",
       "      <th>Desv. Est.</th>\n",
       "    </tr>\n",
       "  </thead>\n",
       "  <tbody>\n",
       "    <tr>\n",
       "      <th>Duración</th>\n",
       "      <td>8.371578e-01</td>\n",
       "      <td>0.835759</td>\n",
       "      <td>6.852716e-02</td>\n",
       "    </tr>\n",
       "    <tr>\n",
       "      <th>Error c.r. Mínimo</th>\n",
       "      <td>1.594005e-12</td>\n",
       "      <td>0.000000</td>\n",
       "      <td>6.479781e-12</td>\n",
       "    </tr>\n",
       "    <tr>\n",
       "      <th>Error c.r. Óptimo</th>\n",
       "      <td>2.091737e-03</td>\n",
       "      <td>0.000543</td>\n",
       "      <td>3.640835e-03</td>\n",
       "    </tr>\n",
       "  </tbody>\n",
       "</table>\n",
       "</div>"
      ],
      "text/plain": [
       "                       Promedio   Mediana    Desv. Est.\n",
       "Duración           8.371578e-01  0.835759  6.852716e-02\n",
       "Error c.r. Mínimo  1.594005e-12  0.000000  6.479781e-12\n",
       "Error c.r. Óptimo  2.091737e-03  0.000543  3.640835e-03"
      ]
     },
     "execution_count": 4,
     "metadata": {},
     "output_type": "execute_result"
    }
   ],
   "source": [
    "# Summary statistics\n",
    "summary = pd.DataFrame({\n",
    "    'Promedio': [mean_duration, mean_minimum_error, mean_optimum_error],\n",
    "    'Mediana': [median_duration, median_minimum_error, median_optimum_error],\n",
    "    'Desv. Est.': [std_duration, std_minimum_error, std_optimum_error]\n",
    "}, index=['Duración', 'Error c.r. Mínimo', 'Error c.r. Óptimo'])\n",
    "\n",
    "summary\n"
   ]
  },
  {
   "cell_type": "markdown",
   "metadata": {},
   "source": [
    "##### Función Ripple No. 25"
   ]
  },
  {
   "cell_type": "code",
   "execution_count": 5,
   "metadata": {},
   "outputs": [],
   "source": [
    "objective_function = lambda X: _ripple25(X[0], X[1])\n",
    "actual_minimum = -2\n",
    "actual_optimum = (0.1, 0.1)\n",
    "\n",
    "durations = []\n",
    "minimum_errors = []\n",
    "optimum_errors = []\n",
    "\n",
    "for i in range(TOTAL_RUNS):\n",
    "    start = time()\n",
    "    optimum, minimum = sfla(\n",
    "        objective_function, \n",
    "        10, # Total de memeplexes\n",
    "        10, # Ranas por memeplexes\n",
    "        2, # Dimensión del dominio de la función\n",
    "        6, # Número de iteraciones por memeplex\n",
    "        6, # Tamaño de los submemeplexes\n",
    "        100, # Longitud máxima de un paso al intentar mejorar a la peor rana\n",
    "        (-100, 100), # Cotas\n",
    "        100, # Total iteraciones estables\n",
    "        0.000000001 # Umbral de estabilidad\n",
    "    )\n",
    "    end = time()\n",
    "\n",
    "    duration = end - start\n",
    "    minimum_error = abs(minimum - actual_minimum)\n",
    "    optimum_error = np.linalg.norm(np.array(optimum) - np.array(actual_optimum))\n",
    "\n",
    "    durations.append(duration)\n",
    "    minimum_errors.append(minimum_error)\n",
    "    optimum_errors.append(optimum_error)"
   ]
  },
  {
   "cell_type": "code",
   "execution_count": 6,
   "metadata": {},
   "outputs": [],
   "source": [
    "median_duration = np.median(durations)\n",
    "mean_duration = np.mean(durations)\n",
    "std_duration = np.std(durations)\n",
    "\n",
    "median_minimum_error = np.median(minimum_errors)\n",
    "mean_minimum_error = np.mean(minimum_errors)\n",
    "std_minimum_error = np.std(minimum_errors)\n",
    "\n",
    "median_optimum_error = np.median(optimum_errors)\n",
    "mean_optimum_error = np.mean(optimum_errors)\n",
    "std_optimum_error = np.std(optimum_errors)"
   ]
  },
  {
   "cell_type": "code",
   "execution_count": 7,
   "metadata": {},
   "outputs": [
    {
     "data": {
      "text/html": [
       "<div>\n",
       "<style scoped>\n",
       "    .dataframe tbody tr th:only-of-type {\n",
       "        vertical-align: middle;\n",
       "    }\n",
       "\n",
       "    .dataframe tbody tr th {\n",
       "        vertical-align: top;\n",
       "    }\n",
       "\n",
       "    .dataframe thead th {\n",
       "        text-align: right;\n",
       "    }\n",
       "</style>\n",
       "<table border=\"1\" class=\"dataframe\">\n",
       "  <thead>\n",
       "    <tr style=\"text-align: right;\">\n",
       "      <th></th>\n",
       "      <th>Promedio</th>\n",
       "      <th>Mediana</th>\n",
       "      <th>Desv. Est.</th>\n",
       "    </tr>\n",
       "  </thead>\n",
       "  <tbody>\n",
       "    <tr>\n",
       "      <th>Duración</th>\n",
       "      <td>4.919642</td>\n",
       "      <td>5.314179</td>\n",
       "      <td>1.862561</td>\n",
       "    </tr>\n",
       "    <tr>\n",
       "      <th>Error c.r. Mínimo</th>\n",
       "      <td>0.371817</td>\n",
       "      <td>0.000029</td>\n",
       "      <td>0.470379</td>\n",
       "    </tr>\n",
       "    <tr>\n",
       "      <th>Error c.r. Óptimo</th>\n",
       "      <td>13.703289</td>\n",
       "      <td>0.000178</td>\n",
       "      <td>21.192773</td>\n",
       "    </tr>\n",
       "  </tbody>\n",
       "</table>\n",
       "</div>"
      ],
      "text/plain": [
       "                    Promedio   Mediana  Desv. Est.\n",
       "Duración            4.919642  5.314179    1.862561\n",
       "Error c.r. Mínimo   0.371817  0.000029    0.470379\n",
       "Error c.r. Óptimo  13.703289  0.000178   21.192773"
      ]
     },
     "execution_count": 7,
     "metadata": {},
     "output_type": "execute_result"
    }
   ],
   "source": [
    "# Summary statistics\n",
    "summary = pd.DataFrame({\n",
    "    'Promedio': [mean_duration, mean_minimum_error, mean_optimum_error],\n",
    "    'Mediana': [median_duration, median_minimum_error, median_optimum_error],\n",
    "    'Desv. Est.': [std_duration, std_minimum_error, std_optimum_error]\n",
    "}, index=['Duración', 'Error c.r. Mínimo', 'Error c.r. Óptimo'])\n",
    "\n",
    "summary"
   ]
  },
  {
   "cell_type": "markdown",
   "metadata": {},
   "source": [
    "##### Función Mishra 7"
   ]
  },
  {
   "cell_type": "code",
   "execution_count": 8,
   "metadata": {},
   "outputs": [],
   "source": [
    "def mishra_7(x : tuple):\n",
    "    N = 5\n",
    "    return (math.prod(x) - math.factorial(N))**2\n",
    "\n",
    "objective_function = mishra_7\n",
    "actual_minimum = 0\n",
    "\n",
    "durations = []\n",
    "minimum_errors = []\n",
    "optimums = []\n",
    "\n",
    "for i in range(TOTAL_RUNS):\n",
    "    start = time()\n",
    "    optimum, minimum = sfla(\n",
    "        objective_function, \n",
    "        10, # Total de memeplexes\n",
    "        10, # Ranas por memeplexes\n",
    "        2, # Dimensión del dominio de la función\n",
    "        6, # Número de iteraciones por memeplex\n",
    "        6, # Tamaño de los submemeplexes\n",
    "        100, # Longitud máxima de un paso al intentar mejorar a la peor rana\n",
    "        (-100, 100), # Cotas\n",
    "        100, # Total iteraciones estables\n",
    "        0.000000001 # Umbral de estabilidad\n",
    "    )\n",
    "    end = time()\n",
    "\n",
    "    duration = end - start\n",
    "    minimum_error = abs(minimum - actual_minimum)\n",
    "    \n",
    "    durations.append(duration)\n",
    "    minimum_errors.append(minimum_error)\n",
    "    optimums.append(optimum)\n",
    "    \n",
    "optimums = np.array(optimums)"
   ]
  },
  {
   "cell_type": "code",
   "execution_count": 9,
   "metadata": {},
   "outputs": [],
   "source": [
    "median_duration = np.median(durations)\n",
    "mean_duration = np.mean(durations)\n",
    "std_duration = np.std(durations)\n",
    "\n",
    "median_minimum_error = np.median(minimum_errors)\n",
    "mean_minimum_error = np.mean(minimum_errors)\n",
    "std_minimum_error = np.std(minimum_errors)\n",
    "\n",
    "median_optimum = np.median(optimums, axis=0)\n",
    "mean_optimum = np.mean(optimums, axis=0)\n",
    "std_optimum = np.std(optimums, axis=0)"
   ]
  },
  {
   "cell_type": "code",
   "execution_count": 10,
   "metadata": {},
   "outputs": [
    {
     "data": {
      "text/html": [
       "<div>\n",
       "<style scoped>\n",
       "    .dataframe tbody tr th:only-of-type {\n",
       "        vertical-align: middle;\n",
       "    }\n",
       "\n",
       "    .dataframe tbody tr th {\n",
       "        vertical-align: top;\n",
       "    }\n",
       "\n",
       "    .dataframe thead th {\n",
       "        text-align: right;\n",
       "    }\n",
       "</style>\n",
       "<table border=\"1\" class=\"dataframe\">\n",
       "  <thead>\n",
       "    <tr style=\"text-align: right;\">\n",
       "      <th></th>\n",
       "      <th>Promedio</th>\n",
       "      <th>Mediana</th>\n",
       "      <th>Desv. Est.</th>\n",
       "    </tr>\n",
       "  </thead>\n",
       "  <tbody>\n",
       "    <tr>\n",
       "      <th>Duración</th>\n",
       "      <td>0.486981</td>\n",
       "      <td>0.479593</td>\n",
       "      <td>0.080258</td>\n",
       "    </tr>\n",
       "    <tr>\n",
       "      <th>Error c.r. Mínimo</th>\n",
       "      <td>0.0</td>\n",
       "      <td>0.0</td>\n",
       "      <td>0.0</td>\n",
       "    </tr>\n",
       "    <tr>\n",
       "      <th>Óptimo</th>\n",
       "      <td>[5.891021896888101, 3.525992354123744]</td>\n",
       "      <td>[7.234855295731371, 0.053799436236188033]</td>\n",
       "      <td>[19.487317660975393, 19.59093873758737]</td>\n",
       "    </tr>\n",
       "  </tbody>\n",
       "</table>\n",
       "</div>"
      ],
      "text/plain": [
       "                                                 Promedio  \\\n",
       "Duración                                         0.486981   \n",
       "Error c.r. Mínimo                                     0.0   \n",
       "Óptimo             [5.891021896888101, 3.525992354123744]   \n",
       "\n",
       "                                                     Mediana  \\\n",
       "Duración                                            0.479593   \n",
       "Error c.r. Mínimo                                        0.0   \n",
       "Óptimo             [7.234855295731371, 0.053799436236188033]   \n",
       "\n",
       "                                                Desv. Est.  \n",
       "Duración                                          0.080258  \n",
       "Error c.r. Mínimo                                      0.0  \n",
       "Óptimo             [19.487317660975393, 19.59093873758737]  "
      ]
     },
     "execution_count": 10,
     "metadata": {},
     "output_type": "execute_result"
    }
   ],
   "source": [
    "# Summary statistics\n",
    "summary = pd.DataFrame({\n",
    "    'Promedio': [mean_duration, mean_minimum_error, median_optimum],\n",
    "    'Mediana': [median_duration, median_minimum_error, mean_optimum],\n",
    "    'Desv. Est.': [std_duration, std_minimum_error, std_optimum]\n",
    "}, index=['Duración', 'Error c.r. Mínimo', 'Óptimo'])\n",
    "\n",
    "summary"
   ]
  }
 ],
 "metadata": {
  "kernelspec": {
   "display_name": "Python 3",
   "language": "python",
   "name": "python3"
  },
  "language_info": {
   "codemirror_mode": {
    "name": "ipython",
    "version": 3
   },
   "file_extension": ".py",
   "mimetype": "text/x-python",
   "name": "python",
   "nbconvert_exporter": "python",
   "pygments_lexer": "ipython3",
   "version": "3.10.12"
  }
 },
 "nbformat": 4,
 "nbformat_minor": 2
}
