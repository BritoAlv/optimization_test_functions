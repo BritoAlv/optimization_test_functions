{
 "cells": [
  {
   "cell_type": "markdown",
   "metadata": {},
   "source": [
    "### Comprobación del **\"Shuffled Frog Leaping Algorithm\"** (*SFLA*)"
   ]
  },
  {
   "cell_type": "code",
   "execution_count": 1,
   "metadata": {},
   "outputs": [],
   "source": [
    "import pandas as pd\n",
    "import numpy as np\n",
    "from time import time\n",
    "import math\n",
    "\n",
    "from plot.sfla import sfla\n",
    "from plot.bounded_function import schaffer_no_2, _ripple25, schaffer_no_1\n",
    "\n",
    "TOTAL_RUNS = 20"
   ]
  },
  {
   "cell_type": "markdown",
   "metadata": {},
   "source": [
    "##### Función Schaffer No. 2"
   ]
  },
  {
   "cell_type": "code",
   "execution_count": 2,
   "metadata": {},
   "outputs": [],
   "source": [
    "objective_function = lambda X: schaffer_no_2(X[0], X[1])\n",
    "actual_minimum = 0\n",
    "actual_optimum = (0, 0)\n",
    "\n",
    "durations = []\n",
    "minimum_errors = []\n",
    "optimum_errors = []\n",
    "\n",
    "for i in range(TOTAL_RUNS):\n",
    "    start = time()\n",
    "    optimum, minimum = sfla(\n",
    "        objective_function, \n",
    "        10, # Total de memeplexes\n",
    "        10, # Ranas por memeplexes\n",
    "        2, # Dimensión del dominio de la función\n",
    "        6, # Número de iteraciones por memeplex\n",
    "        6, # Tamaño de los submemeplexes\n",
    "        100, # Longitud máxima de un paso al intentar mejorar a la peor rana\n",
    "        (-100, 100), # Cotas\n",
    "        100, # Total iteraciones estables\n",
    "        0.000000001 # Umbral de estabilidad\n",
    "    )\n",
    "    end = time()\n",
    "\n",
    "    duration = end - start\n",
    "    minimum_error = abs(minimum - actual_minimum)\n",
    "    optimum_error = np.linalg.norm(np.array(optimum) - np.array(actual_optimum))\n",
    "\n",
    "    durations.append(duration)\n",
    "    minimum_errors.append(minimum_error)\n",
    "    optimum_errors.append(optimum_error)"
   ]
  },
  {
   "cell_type": "code",
   "execution_count": 3,
   "metadata": {},
   "outputs": [],
   "source": [
    "median_duration = np.median(durations)\n",
    "mean_duration = np.mean(durations)\n",
    "std_duration = np.std(durations)\n",
    "\n",
    "median_minimum_error = np.median(minimum_errors)\n",
    "mean_minimum_error = np.mean(minimum_errors)\n",
    "std_minimum_error = np.std(minimum_errors)\n",
    "\n",
    "median_optimum_error = np.median(optimum_errors)\n",
    "mean_optimum_error = np.mean(optimum_errors)\n",
    "std_optimum_error = np.std(optimum_errors)"
   ]
  },
  {
   "cell_type": "code",
   "execution_count": 4,
   "metadata": {},
   "outputs": [
    {
     "name": "stdout",
     "output_type": "stream",
     "text": [
      "Shuffled Frog Leaping Algorithm with function Schaffer 2 and 20 runs\n",
      "|                   |    Promedio |     Mediana |   Desv. Est. |\n",
      "|:------------------|------------:|------------:|-------------:|\n",
      "| Duración          | 1.02153     | 0.962742    |  0.133853    |\n",
      "| Error c.r. Mínimo | 7.32747e-16 | 0           |  1.91216e-15 |\n",
      "| Error c.r. Óptimo | 0.000607483 | 0.000400719 |  0.000509546 |\n"
     ]
    }
   ],
   "source": [
    "# Summary statistics\n",
    "summary = pd.DataFrame({\n",
    "    'Promedio': [mean_duration, mean_minimum_error, mean_optimum_error],\n",
    "    'Mediana': [median_duration, median_minimum_error, median_optimum_error],\n",
    "    'Desv. Est.': [std_duration, std_minimum_error, std_optimum_error]\n",
    "}, index=['Duración', 'Error c.r. Mínimo', 'Error c.r. Óptimo'])\n",
    "\n",
    "markdown_table = summary.to_markdown(index=True)\n",
    "\n",
    "    # Print the Markdown table\n",
    "print(f\"Shuffled Frog Leaping Algorithm with function Schaffer 2 and {TOTAL_RUNS} runs\")\n",
    "print(markdown_table)\n"
   ]
  },
  {
   "cell_type": "markdown",
   "metadata": {},
   "source": [
    "##### Función Ripple No. 25"
   ]
  },
  {
   "cell_type": "code",
   "execution_count": 5,
   "metadata": {},
   "outputs": [],
   "source": [
    "objective_function = lambda X: _ripple25(X[0], X[1])\n",
    "actual_minimum = -2\n",
    "actual_optimum = (0.1, 0.1)\n",
    "\n",
    "durations = []\n",
    "minimum_errors = []\n",
    "optimum_errors = []\n",
    "\n",
    "for i in range(TOTAL_RUNS):\n",
    "    start = time()\n",
    "    optimum, minimum = sfla(\n",
    "        objective_function, \n",
    "        10, # Total de memeplexes\n",
    "        10, # Ranas por memeplexes\n",
    "        2, # Dimensión del dominio de la función\n",
    "        6, # Número de iteraciones por memeplex\n",
    "        6, # Tamaño de los submemeplexes\n",
    "        100, # Longitud máxima de un paso al intentar mejorar a la peor rana\n",
    "        (0, 1), # Cotas\n",
    "        100, # Total iteraciones estables\n",
    "        0.000000001 # Umbral de estabilidad\n",
    "    )\n",
    "    end = time()\n",
    "\n",
    "    duration = end - start\n",
    "    minimum_error = abs(minimum - actual_minimum)\n",
    "    optimum_error = np.linalg.norm(np.array(optimum) - np.array(actual_optimum))\n",
    "\n",
    "    durations.append(duration)\n",
    "    minimum_errors.append(minimum_error)\n",
    "    optimum_errors.append(optimum_error)"
   ]
  },
  {
   "cell_type": "code",
   "execution_count": 6,
   "metadata": {},
   "outputs": [],
   "source": [
    "median_duration = np.median(durations)\n",
    "mean_duration = np.mean(durations)\n",
    "std_duration = np.std(durations)\n",
    "\n",
    "median_minimum_error = np.median(minimum_errors)\n",
    "mean_minimum_error = np.mean(minimum_errors)\n",
    "std_minimum_error = np.std(minimum_errors)\n",
    "\n",
    "median_optimum_error = np.median(optimum_errors)\n",
    "mean_optimum_error = np.mean(optimum_errors)\n",
    "std_optimum_error = np.std(optimum_errors)"
   ]
  },
  {
   "cell_type": "code",
   "execution_count": 7,
   "metadata": {},
   "outputs": [
    {
     "name": "stdout",
     "output_type": "stream",
     "text": [
      "Shuffled Frog Leaping Algorithm with function Ripple 25 and 20 runs\n",
      "|                   |   Promedio |   Mediana |   Desv. Est. |\n",
      "|:------------------|-----------:|----------:|-------------:|\n",
      "| Duración          |  6.00775   | 4.32019   |     3.30161  |\n",
      "| Error c.r. Mínimo |  0.0734916 | 0.0828101 |     0.054667 |\n",
      "| Error c.r. Óptimo |  0.143751  | 0.199541  |     0.106968 |\n"
     ]
    }
   ],
   "source": [
    "# Summary statistics\n",
    "summary = pd.DataFrame({\n",
    "    'Promedio': [mean_duration, mean_minimum_error, mean_optimum_error],\n",
    "    'Mediana': [median_duration, median_minimum_error, median_optimum_error],\n",
    "    'Desv. Est.': [std_duration, std_minimum_error, std_optimum_error]\n",
    "}, index=['Duración', 'Error c.r. Mínimo', 'Error c.r. Óptimo'])\n",
    "\n",
    "markdown_table = summary.to_markdown(index=True)\n",
    "\n",
    "    # Print the Markdown table\n",
    "print(f\"Shuffled Frog Leaping Algorithm with function Ripple 25 and {TOTAL_RUNS} runs\")\n",
    "print(markdown_table)"
   ]
  },
  {
   "cell_type": "markdown",
   "metadata": {},
   "source": [
    "##### Función Mishra 7"
   ]
  },
  {
   "cell_type": "code",
   "execution_count": 8,
   "metadata": {},
   "outputs": [
    {
     "name": "stdout",
     "output_type": "stream",
     "text": [
      "[12.513253175975395, 9.589832137288248] 6.5076363530930095e-12\n",
      "[-16.8877628215684, -7.105736911804206] 1.3031137968534674e-13\n",
      "[8.959832090135468, 13.393108701663477] 2.633575084660279e-11\n",
      "[-5.477792495629656, -21.90663486052556] 1.891026993521928e-15\n",
      "[-19.102862837259345, -6.281780986224498] 3.0641795901334007e-13\n",
      "[-14.314548432225045, -8.383079669527127] 3.522754868804817e-15\n",
      "[-14.834279548589796, -8.08937162947875] 1.540556087831614e-14\n",
      "[19.211232754131842, 6.246345664282104] 1.758005558941068e-13\n",
      "[-11.012300141112446, -10.896906045031688] 5.111431459881312e-16\n",
      "[-5.187016111998137, -23.13468834543029] 1.425164248817876e-12\n",
      "[-5.271203958175566, -22.76519523410054] 1.6315897359960317e-10\n",
      "[15.096685239122126, 7.948764745339495] 3.597347463195825e-13\n",
      "[-55.49961565158068, -2.1621771349467758] 1.585476908770164e-15\n",
      "[10.6110437298916, 11.308971323274942] 1.1553325133514202e-10\n",
      "[7.949997905256776, 15.09434871291727] 1.6523336902218307e-09\n",
      "[-3.5284205871428416, -34.005131919395524] 0.0002431250301606415\n",
      "[3.579450114250583, 33.524702969960266] 3.519530303123055e-12\n"
     ]
    },
    {
     "ename": "KeyboardInterrupt",
     "evalue": "",
     "output_type": "error",
     "traceback": [
      "\u001b[0;31m---------------------------------------------------------------------------\u001b[0m",
      "\u001b[0;31mKeyboardInterrupt\u001b[0m                         Traceback (most recent call last)",
      "Cell \u001b[0;32mIn[8], line 14\u001b[0m\n\u001b[1;32m     12\u001b[0m \u001b[38;5;28;01mfor\u001b[39;00m i \u001b[38;5;129;01min\u001b[39;00m \u001b[38;5;28mrange\u001b[39m(TOTAL_RUNS):\n\u001b[1;32m     13\u001b[0m     start \u001b[38;5;241m=\u001b[39m time()\n\u001b[0;32m---> 14\u001b[0m     optimum, minimum \u001b[38;5;241m=\u001b[39m \u001b[43msfla\u001b[49m\u001b[43m(\u001b[49m\n\u001b[1;32m     15\u001b[0m \u001b[43m        \u001b[49m\u001b[43mobjective_function\u001b[49m\u001b[43m,\u001b[49m\u001b[43m \u001b[49m\n\u001b[1;32m     16\u001b[0m \u001b[43m        \u001b[49m\u001b[38;5;241;43m10\u001b[39;49m\u001b[43m,\u001b[49m\u001b[43m \u001b[49m\u001b[38;5;66;43;03m# Total de memeplexes\u001b[39;49;00m\n\u001b[1;32m     17\u001b[0m \u001b[43m        \u001b[49m\u001b[38;5;241;43m10\u001b[39;49m\u001b[43m,\u001b[49m\u001b[43m \u001b[49m\u001b[38;5;66;43;03m# Ranas por memeplexes\u001b[39;49;00m\n\u001b[1;32m     18\u001b[0m \u001b[43m        \u001b[49m\u001b[38;5;241;43m2\u001b[39;49m\u001b[43m,\u001b[49m\u001b[43m \u001b[49m\u001b[38;5;66;43;03m# Dimensión del dominio de la función\u001b[39;49;00m\n\u001b[1;32m     19\u001b[0m \u001b[43m        \u001b[49m\u001b[38;5;241;43m6\u001b[39;49m\u001b[43m,\u001b[49m\u001b[43m \u001b[49m\u001b[38;5;66;43;03m# Número de iteraciones por memeplex\u001b[39;49;00m\n\u001b[1;32m     20\u001b[0m \u001b[43m        \u001b[49m\u001b[38;5;241;43m6\u001b[39;49m\u001b[43m,\u001b[49m\u001b[43m \u001b[49m\u001b[38;5;66;43;03m# Tamaño de los submemeplexes\u001b[39;49;00m\n\u001b[1;32m     21\u001b[0m \u001b[43m        \u001b[49m\u001b[38;5;241;43m100\u001b[39;49m\u001b[43m,\u001b[49m\u001b[43m \u001b[49m\u001b[38;5;66;43;03m# Longitud máxima de un paso al intentar mejorar a la peor rana\u001b[39;49;00m\n\u001b[1;32m     22\u001b[0m \u001b[43m        \u001b[49m\u001b[43m(\u001b[49m\u001b[38;5;241;43m-\u001b[39;49m\u001b[38;5;241;43m100\u001b[39;49m\u001b[43m,\u001b[49m\u001b[43m \u001b[49m\u001b[38;5;241;43m100\u001b[39;49m\u001b[43m)\u001b[49m\u001b[43m,\u001b[49m\u001b[43m \u001b[49m\u001b[38;5;66;43;03m# Cotas\u001b[39;49;00m\n\u001b[1;32m     23\u001b[0m \u001b[43m        \u001b[49m\u001b[38;5;241;43m100\u001b[39;49m\u001b[43m,\u001b[49m\u001b[43m \u001b[49m\u001b[38;5;66;43;03m# Total iteraciones estables\u001b[39;49;00m\n\u001b[1;32m     24\u001b[0m \u001b[43m        \u001b[49m\u001b[38;5;241;43m0.000000001\u001b[39;49m\u001b[43m \u001b[49m\u001b[38;5;66;43;03m# Umbral de estabilidad\u001b[39;49;00m\n\u001b[1;32m     25\u001b[0m \u001b[43m    \u001b[49m\u001b[43m)\u001b[49m\n\u001b[1;32m     26\u001b[0m     \u001b[38;5;28mprint\u001b[39m(optimum, minimum)\n\u001b[1;32m     27\u001b[0m     end \u001b[38;5;241m=\u001b[39m time()\n",
      "File \u001b[0;32m~/proyectos/optimization_test_functions/src/plot/sfla.py:213\u001b[0m, in \u001b[0;36msfla\u001b[0;34m(objective_function, m, n, dimension, N, q, S, bounds, stability_total, stability_threshold)\u001b[0m\n\u001b[1;32m    211\u001b[0m     thread \u001b[38;5;241m=\u001b[39m Thread(target\u001b[38;5;241m=\u001b[39mevolve, args\u001b[38;5;241m=\u001b[39m(memeplexes, index, memeplex, global_best))\n\u001b[1;32m    212\u001b[0m     threads\u001b[38;5;241m.\u001b[39mappend(thread)\n\u001b[0;32m--> 213\u001b[0m     \u001b[43mthread\u001b[49m\u001b[38;5;241;43m.\u001b[39;49m\u001b[43mstart\u001b[49m\u001b[43m(\u001b[49m\u001b[43m)\u001b[49m\n\u001b[1;32m    214\u001b[0m     \u001b[38;5;66;03m# self.evolve(memeplexes, index, memeplex, self.global_best)\u001b[39;00m\n\u001b[1;32m    216\u001b[0m \u001b[38;5;28;01mfor\u001b[39;00m thread \u001b[38;5;129;01min\u001b[39;00m threads:\n",
      "File \u001b[0;32m/usr/lib/python3.12/threading.py:997\u001b[0m, in \u001b[0;36mThread.start\u001b[0;34m(self)\u001b[0m\n\u001b[1;32m    995\u001b[0m         \u001b[38;5;28;01mdel\u001b[39;00m _limbo[\u001b[38;5;28mself\u001b[39m]\n\u001b[1;32m    996\u001b[0m     \u001b[38;5;28;01mraise\u001b[39;00m\n\u001b[0;32m--> 997\u001b[0m \u001b[38;5;28;43mself\u001b[39;49m\u001b[38;5;241;43m.\u001b[39;49m\u001b[43m_started\u001b[49m\u001b[38;5;241;43m.\u001b[39;49m\u001b[43mwait\u001b[49m\u001b[43m(\u001b[49m\u001b[43m)\u001b[49m\n",
      "File \u001b[0;32m/usr/lib/python3.12/threading.py:655\u001b[0m, in \u001b[0;36mEvent.wait\u001b[0;34m(self, timeout)\u001b[0m\n\u001b[1;32m    653\u001b[0m signaled \u001b[38;5;241m=\u001b[39m \u001b[38;5;28mself\u001b[39m\u001b[38;5;241m.\u001b[39m_flag\n\u001b[1;32m    654\u001b[0m \u001b[38;5;28;01mif\u001b[39;00m \u001b[38;5;129;01mnot\u001b[39;00m signaled:\n\u001b[0;32m--> 655\u001b[0m     signaled \u001b[38;5;241m=\u001b[39m \u001b[38;5;28;43mself\u001b[39;49m\u001b[38;5;241;43m.\u001b[39;49m\u001b[43m_cond\u001b[49m\u001b[38;5;241;43m.\u001b[39;49m\u001b[43mwait\u001b[49m\u001b[43m(\u001b[49m\u001b[43mtimeout\u001b[49m\u001b[43m)\u001b[49m\n\u001b[1;32m    656\u001b[0m \u001b[38;5;28;01mreturn\u001b[39;00m signaled\n",
      "File \u001b[0;32m/usr/lib/python3.12/threading.py:355\u001b[0m, in \u001b[0;36mCondition.wait\u001b[0;34m(self, timeout)\u001b[0m\n\u001b[1;32m    353\u001b[0m \u001b[38;5;28;01mtry\u001b[39;00m:    \u001b[38;5;66;03m# restore state no matter what (e.g., KeyboardInterrupt)\u001b[39;00m\n\u001b[1;32m    354\u001b[0m     \u001b[38;5;28;01mif\u001b[39;00m timeout \u001b[38;5;129;01mis\u001b[39;00m \u001b[38;5;28;01mNone\u001b[39;00m:\n\u001b[0;32m--> 355\u001b[0m         \u001b[43mwaiter\u001b[49m\u001b[38;5;241;43m.\u001b[39;49m\u001b[43macquire\u001b[49m\u001b[43m(\u001b[49m\u001b[43m)\u001b[49m\n\u001b[1;32m    356\u001b[0m         gotit \u001b[38;5;241m=\u001b[39m \u001b[38;5;28;01mTrue\u001b[39;00m\n\u001b[1;32m    357\u001b[0m     \u001b[38;5;28;01melse\u001b[39;00m:\n",
      "\u001b[0;31mKeyboardInterrupt\u001b[0m: "
     ]
    }
   ],
   "source": [
    "def mishra_7(x : tuple):\n",
    "    N = 5\n",
    "    return (math.prod(x) - math.factorial(N))**2\n",
    "\n",
    "objective_function = mishra_7\n",
    "actual_minimum = 0\n",
    "\n",
    "durations = []\n",
    "minimum_errors = []\n",
    "optimums = []\n",
    "\n",
    "for i in range(TOTAL_RUNS):\n",
    "    start = time()\n",
    "    optimum, minimum = sfla(\n",
    "        objective_function, \n",
    "        10, # Total de memeplexes\n",
    "        10, # Ranas por memeplexes\n",
    "        2, # Dimensión del dominio de la función\n",
    "        6, # Número de iteraciones por memeplex\n",
    "        6, # Tamaño de los submemeplexes\n",
    "        100, # Longitud máxima de un paso al intentar mejorar a la peor rana\n",
    "        (-100, 100), # Cotas\n",
    "        100, # Total iteraciones estables\n",
    "        0.000000001 # Umbral de estabilidad\n",
    "    )\n",
    "    print(optimum, minimum)\n",
    "    end = time()\n",
    "\n",
    "    duration = end - start\n",
    "    minimum_error = abs(minimum - actual_minimum)\n",
    "    \n",
    "    durations.append(duration)\n",
    "    minimum_errors.append(minimum_error)\n",
    "    optimums.append(optimum)\n",
    "    \n",
    "optimums = np.array(optimums)"
   ]
  },
  {
   "cell_type": "code",
   "execution_count": null,
   "metadata": {},
   "outputs": [],
   "source": [
    "median_duration = np.median(durations)\n",
    "mean_duration = np.mean(durations)\n",
    "std_duration = np.std(durations)\n",
    "\n",
    "median_minimum_error = np.median(minimum_errors)\n",
    "mean_minimum_error = np.mean(minimum_errors)\n",
    "std_minimum_error = np.std(minimum_errors)\n",
    "\n",
    "median_optimum = np.median(optimums, axis=0)\n",
    "mean_optimum = np.mean(optimums, axis=0)\n",
    "std_optimum = np.std(optimums, axis=0)"
   ]
  },
  {
   "cell_type": "code",
   "execution_count": null,
   "metadata": {},
   "outputs": [
    {
     "data": {
      "text/html": [
       "<div>\n",
       "<style scoped>\n",
       "    .dataframe tbody tr th:only-of-type {\n",
       "        vertical-align: middle;\n",
       "    }\n",
       "\n",
       "    .dataframe tbody tr th {\n",
       "        vertical-align: top;\n",
       "    }\n",
       "\n",
       "    .dataframe thead th {\n",
       "        text-align: right;\n",
       "    }\n",
       "</style>\n",
       "<table border=\"1\" class=\"dataframe\">\n",
       "  <thead>\n",
       "    <tr style=\"text-align: right;\">\n",
       "      <th></th>\n",
       "      <th>Promedio</th>\n",
       "      <th>Mediana</th>\n",
       "      <th>Desv. Est.</th>\n",
       "    </tr>\n",
       "  </thead>\n",
       "  <tbody>\n",
       "    <tr>\n",
       "      <th>Duración</th>\n",
       "      <td>1.782274</td>\n",
       "      <td>1.549789</td>\n",
       "      <td>0.673887</td>\n",
       "    </tr>\n",
       "    <tr>\n",
       "      <th>Error c.r. Mínimo</th>\n",
       "      <td>0.0</td>\n",
       "      <td>0.0</td>\n",
       "      <td>0.0</td>\n",
       "    </tr>\n",
       "    <tr>\n",
       "      <th>Óptimo</th>\n",
       "      <td>[-4.7734454501962045, -7.0083927858275965]</td>\n",
       "      <td>[-0.29500609426077473, -3.69811102335341]</td>\n",
       "      <td>[13.982009466986847, 24.180827380772612]</td>\n",
       "    </tr>\n",
       "  </tbody>\n",
       "</table>\n",
       "</div>"
      ],
      "text/plain": [
       "                                                     Promedio  \\\n",
       "Duración                                             1.782274   \n",
       "Error c.r. Mínimo                                         0.0   \n",
       "Óptimo             [-4.7734454501962045, -7.0083927858275965]   \n",
       "\n",
       "                                                     Mediana  \\\n",
       "Duración                                            1.549789   \n",
       "Error c.r. Mínimo                                        0.0   \n",
       "Óptimo             [-0.29500609426077473, -3.69811102335341]   \n",
       "\n",
       "                                                 Desv. Est.  \n",
       "Duración                                           0.673887  \n",
       "Error c.r. Mínimo                                       0.0  \n",
       "Óptimo             [13.982009466986847, 24.180827380772612]  "
      ]
     },
     "execution_count": 16,
     "metadata": {},
     "output_type": "execute_result"
    }
   ],
   "source": [
    "# Summary statistics\n",
    "summary = pd.DataFrame({\n",
    "    'Promedio': [mean_duration, mean_minimum_error, median_optimum],\n",
    "    'Mediana': [median_duration, median_minimum_error, mean_optimum],\n",
    "    'Desv. Est.': [std_duration, std_minimum_error, std_optimum]\n",
    "}, index=['Duración', 'Error c.r. Mínimo', 'Óptimo'])\n",
    "\n",
    "summary"
   ]
  },
  {
   "cell_type": "markdown",
   "metadata": {},
   "source": [
    "##### Función Schaffer No. 1"
   ]
  },
  {
   "cell_type": "code",
   "execution_count": null,
   "metadata": {},
   "outputs": [],
   "source": [
    "objective_function = lambda X: schaffer_no_1(X[0], X[1])\n",
    "actual_minimum = 0\n",
    "actual_optimum = (0, 0)\n",
    "\n",
    "durations = []\n",
    "minimum_errors = []\n",
    "optimum_errors = []\n",
    "\n",
    "for i in range(TOTAL_RUNS):\n",
    "    start = time()\n",
    "    optimum, minimum = sfla(\n",
    "        objective_function, \n",
    "        10, # Total de memeplexes\n",
    "        10, # Ranas por memeplexes\n",
    "        2, # Dimensión del dominio de la función\n",
    "        6, # Número de iteraciones por memeplex\n",
    "        6, # Tamaño de los submemeplexes\n",
    "        100, # Longitud máxima de un paso al intentar mejorar a la peor rana\n",
    "        (-100, 100), # Cotas\n",
    "        100, # Total iteraciones estables\n",
    "        0.000000001 # Umbral de estabilidad\n",
    "    )\n",
    "    end = time()\n",
    "\n",
    "    duration = end - start\n",
    "    minimum_error = abs(minimum - actual_minimum)\n",
    "    optimum_error = np.linalg.norm(np.array(optimum) - np.array(actual_optimum))\n",
    "\n",
    "    durations.append(duration)\n",
    "    minimum_errors.append(minimum_error)\n",
    "    optimum_errors.append(optimum_error)"
   ]
  },
  {
   "cell_type": "code",
   "execution_count": null,
   "metadata": {},
   "outputs": [],
   "source": [
    "median_duration = np.median(durations)\n",
    "mean_duration = np.mean(durations)\n",
    "std_duration = np.std(durations)\n",
    "\n",
    "median_minimum_error = np.median(minimum_errors)\n",
    "mean_minimum_error = np.mean(minimum_errors)\n",
    "std_minimum_error = np.std(minimum_errors)\n",
    "\n",
    "median_optimum_error = np.median(optimum_errors)\n",
    "mean_optimum_error = np.mean(optimum_errors)\n",
    "std_optimum_error = np.std(optimum_errors)"
   ]
  },
  {
   "cell_type": "code",
   "execution_count": null,
   "metadata": {},
   "outputs": [
    {
     "name": "stdout",
     "output_type": "stream",
     "text": [
      "Shuffled Frog Leaping Algorithm with function Schaffer 1 and 20 runs\n",
      "|                   |    Promedio |     Mediana |   Desv. Est. |\n",
      "|:------------------|------------:|------------:|-------------:|\n",
      "| Duración          | 1.78227     | 1.54979     |  0.673887    |\n",
      "| Error c.r. Mínimo | 1.34446e-10 | 0           |  5.81081e-10 |\n",
      "| Error c.r. Óptimo | 0.00417204  | 0.000514606 |  0.0105829   |\n"
     ]
    }
   ],
   "source": [
    "# Summary statistics\n",
    "summary = pd.DataFrame({\n",
    "    'Promedio': [mean_duration, mean_minimum_error, mean_optimum_error],\n",
    "    'Mediana': [median_duration, median_minimum_error, median_optimum_error],\n",
    "    'Desv. Est.': [std_duration, std_minimum_error, std_optimum_error]\n",
    "}, index=['Duración', 'Error c.r. Mínimo', 'Error c.r. Óptimo'])\n",
    "\n",
    "markdown_table = summary.to_markdown(index=True)\n",
    "\n",
    "    # Print the Markdown table\n",
    "print(f\"Shuffled Frog Leaping Algorithm with function Schaffer 1 and {TOTAL_RUNS} runs\")\n",
    "print(markdown_table)"
   ]
  }
 ],
 "metadata": {
  "kernelspec": {
   "display_name": "Python 3",
   "language": "python",
   "name": "python3"
  },
  "language_info": {
   "codemirror_mode": {
    "name": "ipython",
    "version": 3
   },
   "file_extension": ".py",
   "mimetype": "text/x-python",
   "name": "python",
   "nbconvert_exporter": "python",
   "pygments_lexer": "ipython3",
   "version": "3.12.3"
  }
 },
 "nbformat": 4,
 "nbformat_minor": 2
}
