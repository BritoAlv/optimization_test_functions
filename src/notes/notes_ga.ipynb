{
 "cells": [
  {
   "cell_type": "markdown",
   "metadata": {},
   "source": [
    "### Comprobación del **\"Genetic Algorithim\"** (*GA*)"
   ]
  },
  {
   "cell_type": "code",
   "execution_count": 1,
   "metadata": {},
   "outputs": [
    {
     "ename": "ModuleNotFoundError",
     "evalue": "No module named 'Genetic_Algorithim'",
     "output_type": "error",
     "traceback": [
      "\u001b[0;31m---------------------------------------------------------------------------\u001b[0m",
      "\u001b[0;31mModuleNotFoundError\u001b[0m                       Traceback (most recent call last)",
      "Cell \u001b[0;32mIn[1], line 6\u001b[0m\n\u001b[1;32m      3\u001b[0m \u001b[38;5;28;01mfrom\u001b[39;00m \u001b[38;5;21;01mtime\u001b[39;00m \u001b[38;5;28;01mimport\u001b[39;00m time\n\u001b[1;32m      4\u001b[0m \u001b[38;5;28;01mimport\u001b[39;00m \u001b[38;5;21;01mmath\u001b[39;00m\n\u001b[0;32m----> 6\u001b[0m \u001b[38;5;28;01mfrom\u001b[39;00m \u001b[38;5;21;01mGenetic_Algorithim\u001b[39;00m \u001b[38;5;28;01mimport\u001b[39;00m differential_evolution\n\u001b[1;32m      7\u001b[0m \u001b[38;5;28;01mfrom\u001b[39;00m \u001b[38;5;21;01mbounded_function\u001b[39;00m \u001b[38;5;28;01mimport\u001b[39;00m schaffer_no_2, _ripple25, schaffer_no_1, bukin\n\u001b[1;32m      8\u001b[0m bounds \u001b[38;5;241m=\u001b[39m [(\u001b[38;5;241m-\u001b[39m\u001b[38;5;241m100\u001b[39m, \u001b[38;5;241m100\u001b[39m) \u001b[38;5;28;01mfor\u001b[39;00m _ \u001b[38;5;129;01min\u001b[39;00m \u001b[38;5;28mrange\u001b[39m(\u001b[38;5;241m2\u001b[39m)]\n",
      "\u001b[0;31mModuleNotFoundError\u001b[0m: No module named 'Genetic_Algorithim'"
     ]
    }
   ],
   "source": [
    "import pandas as pd\n",
    "import numpy as np\n",
    "from time import time\n",
    "import math\n",
    "\n",
    "from Genetic_Algorithim import differential_evolution\n",
    "from bounded_function import schaffer_no_2, _ripple25, schaffer_no_1, bukin\n",
    "bounds = [(-100, 100) for _ in range(2)]\n",
    "\n",
    "TOTAL_RUNS = 20"
   ]
  },
  {
   "cell_type": "markdown",
   "metadata": {},
   "source": [
    "##### Función Schaffer No. 2"
   ]
  },
  {
   "cell_type": "code",
   "execution_count": 12,
   "metadata": {},
   "outputs": [],
   "source": [
    "objective_function = lambda X: schaffer_no_2(X[0], X[1])\n",
    "actual_minimum = 0\n",
    "actual_optimum = (0, 0)\n",
    "\n",
    "durations = []\n",
    "minimum_errors = []\n",
    "optimum_errors = []\n",
    "\n",
    "for i in range(TOTAL_RUNS):\n",
    "    start = time()\n",
    "    optimum, minimum = differential_evolution(objective_function, bounds)\n",
    "    end = time()\n",
    "\n",
    "    duration = end - start\n",
    "    minimum_error = abs(minimum - actual_minimum)\n",
    "    optimum_error = np.linalg.norm(np.array(optimum) - np.array(actual_optimum))\n",
    "\n",
    "    durations.append(duration)\n",
    "    minimum_errors.append(minimum_error)\n",
    "    optimum_errors.append(optimum_error)"
   ]
  },
  {
   "cell_type": "code",
   "execution_count": 13,
   "metadata": {},
   "outputs": [],
   "source": [
    "median_duration = np.median(durations)\n",
    "mean_duration = np.mean(durations)\n",
    "std_duration = np.std(durations)\n",
    "\n",
    "median_minimum_error = np.median(minimum_errors)\n",
    "mean_minimum_error = np.mean(minimum_errors)\n",
    "std_minimum_error = np.std(minimum_errors)\n",
    "\n",
    "median_optimum_error = np.median(optimum_errors)\n",
    "mean_optimum_error = np.mean(optimum_errors)\n",
    "std_optimum_error = np.std(optimum_errors)"
   ]
  },
  {
   "cell_type": "code",
   "execution_count": 14,
   "metadata": {},
   "outputs": [
    {
     "data": {
      "text/html": [
       "<div>\n",
       "<style scoped>\n",
       "    .dataframe tbody tr th:only-of-type {\n",
       "        vertical-align: middle;\n",
       "    }\n",
       "\n",
       "    .dataframe tbody tr th {\n",
       "        vertical-align: top;\n",
       "    }\n",
       "\n",
       "    .dataframe thead th {\n",
       "        text-align: right;\n",
       "    }\n",
       "</style>\n",
       "<table border=\"1\" class=\"dataframe\">\n",
       "  <thead>\n",
       "    <tr style=\"text-align: right;\">\n",
       "      <th></th>\n",
       "      <th>Promedio</th>\n",
       "      <th>Mediana</th>\n",
       "      <th>Desv. Est.</th>\n",
       "    </tr>\n",
       "  </thead>\n",
       "  <tbody>\n",
       "    <tr>\n",
       "      <th>Duración</th>\n",
       "      <td>1.046041e-01</td>\n",
       "      <td>1.047817e-01</td>\n",
       "      <td>1.936059e-02</td>\n",
       "    </tr>\n",
       "    <tr>\n",
       "      <th>Error c.r. Mínimo</th>\n",
       "      <td>2.837139e-09</td>\n",
       "      <td>8.299219e-10</td>\n",
       "      <td>3.360508e-09</td>\n",
       "    </tr>\n",
       "    <tr>\n",
       "      <th>Error c.r. Óptimo</th>\n",
       "      <td>4.006819e-02</td>\n",
       "      <td>3.581660e-02</td>\n",
       "      <td>1.714624e-02</td>\n",
       "    </tr>\n",
       "  </tbody>\n",
       "</table>\n",
       "</div>"
      ],
      "text/plain": [
       "                       Promedio       Mediana    Desv. Est.\n",
       "Duración           1.046041e-01  1.047817e-01  1.936059e-02\n",
       "Error c.r. Mínimo  2.837139e-09  8.299219e-10  3.360508e-09\n",
       "Error c.r. Óptimo  4.006819e-02  3.581660e-02  1.714624e-02"
      ]
     },
     "execution_count": 14,
     "metadata": {},
     "output_type": "execute_result"
    }
   ],
   "source": [
    "# Summary statistics\n",
    "summary = pd.DataFrame({\n",
    "    'Promedio': [mean_duration, mean_minimum_error, mean_optimum_error],\n",
    "    'Mediana': [median_duration, median_minimum_error, median_optimum_error],\n",
    "    'Desv. Est.': [std_duration, std_minimum_error, std_optimum_error]\n",
    "}, index=['Duración', 'Error c.r. Mínimo', 'Error c.r. Óptimo'])\n",
    "\n",
    "summary\n"
   ]
  },
  {
   "cell_type": "markdown",
   "metadata": {},
   "source": [
    "##### Función Ripple No. 25"
   ]
  },
  {
   "cell_type": "code",
   "execution_count": 15,
   "metadata": {},
   "outputs": [],
   "source": [
    "objective_function = lambda X: _ripple25(X[0], X[1])\n",
    "actual_minimum = -2\n",
    "actual_optimum = (0.1, 0.1)\n",
    "\n",
    "durations = []\n",
    "minimum_errors = []\n",
    "optimum_errors = []\n",
    "\n",
    "for i in range(TOTAL_RUNS):\n",
    "    start = time()\n",
    "    optimum, minimum = differential_evolution(objective_function, [(0,1) for _ in range(2)])\n",
    "    end = time()\n",
    "\n",
    "    duration = end - start\n",
    "    minimum_error = abs(minimum - actual_minimum)\n",
    "    optimum_error = np.linalg.norm(np.array(optimum) - np.array(actual_optimum))\n",
    "\n",
    "    durations.append(duration)\n",
    "    minimum_errors.append(minimum_error)\n",
    "    optimum_errors.append(optimum_error)"
   ]
  },
  {
   "cell_type": "code",
   "execution_count": 16,
   "metadata": {},
   "outputs": [],
   "source": [
    "median_duration = np.median(durations)\n",
    "mean_duration = np.mean(durations)\n",
    "std_duration = np.std(durations)\n",
    "\n",
    "median_minimum_error = np.median(minimum_errors)\n",
    "mean_minimum_error = np.mean(minimum_errors)\n",
    "std_minimum_error = np.std(minimum_errors)\n",
    "\n",
    "median_optimum_error = np.median(optimum_errors)\n",
    "mean_optimum_error = np.mean(optimum_errors)\n",
    "std_optimum_error = np.std(optimum_errors)"
   ]
  },
  {
   "cell_type": "code",
   "execution_count": 17,
   "metadata": {},
   "outputs": [
    {
     "data": {
      "text/html": [
       "<div>\n",
       "<style scoped>\n",
       "    .dataframe tbody tr th:only-of-type {\n",
       "        vertical-align: middle;\n",
       "    }\n",
       "\n",
       "    .dataframe tbody tr th {\n",
       "        vertical-align: top;\n",
       "    }\n",
       "\n",
       "    .dataframe thead th {\n",
       "        text-align: right;\n",
       "    }\n",
       "</style>\n",
       "<table border=\"1\" class=\"dataframe\">\n",
       "  <thead>\n",
       "    <tr style=\"text-align: right;\">\n",
       "      <th></th>\n",
       "      <th>Promedio</th>\n",
       "      <th>Mediana</th>\n",
       "      <th>Desv. Est.</th>\n",
       "    </tr>\n",
       "  </thead>\n",
       "  <tbody>\n",
       "    <tr>\n",
       "      <th>Duración</th>\n",
       "      <td>0.003676</td>\n",
       "      <td>0.003758</td>\n",
       "      <td>0.001106</td>\n",
       "    </tr>\n",
       "    <tr>\n",
       "      <th>Error c.r. Mínimo</th>\n",
       "      <td>0.370942</td>\n",
       "      <td>0.334613</td>\n",
       "      <td>0.259675</td>\n",
       "    </tr>\n",
       "    <tr>\n",
       "      <th>Error c.r. Óptimo</th>\n",
       "      <td>0.223265</td>\n",
       "      <td>0.213952</td>\n",
       "      <td>0.174356</td>\n",
       "    </tr>\n",
       "  </tbody>\n",
       "</table>\n",
       "</div>"
      ],
      "text/plain": [
       "                   Promedio   Mediana  Desv. Est.\n",
       "Duración           0.003676  0.003758    0.001106\n",
       "Error c.r. Mínimo  0.370942  0.334613    0.259675\n",
       "Error c.r. Óptimo  0.223265  0.213952    0.174356"
      ]
     },
     "execution_count": 17,
     "metadata": {},
     "output_type": "execute_result"
    }
   ],
   "source": [
    "# Summary statistics\n",
    "summary = pd.DataFrame({\n",
    "    'Promedio': [mean_duration, mean_minimum_error, mean_optimum_error],\n",
    "    'Mediana': [median_duration, median_minimum_error, median_optimum_error],\n",
    "    'Desv. Est.': [std_duration, std_minimum_error, std_optimum_error]\n",
    "}, index=['Duración', 'Error c.r. Mínimo', 'Error c.r. Óptimo'])\n",
    "\n",
    "summary"
   ]
  },
  {
   "cell_type": "markdown",
   "metadata": {},
   "source": [
    "##### Función Mishra 7"
   ]
  },
  {
   "cell_type": "code",
   "execution_count": 18,
   "metadata": {},
   "outputs": [],
   "source": [
    "\n",
    "def mishra_7(x : tuple):\n",
    "    N = 5\n",
    "    return (math.prod(x) - math.factorial(N))**2\n",
    "objective_function = mishra_7\n",
    "actual_minimum = 0\n",
    "\n",
    "durations = []\n",
    "minimum_errors = []\n",
    "optimums = []\n",
    "\n",
    "for i in range(TOTAL_RUNS):\n",
    "    start = time()\n",
    "    optimum, minimum = differential_evolution(objective_function, bounds)\n",
    "    end = time()\n",
    "\n",
    "    duration = end - start\n",
    "    minimum_error = abs(minimum - actual_minimum)\n",
    "    \n",
    "    durations.append(duration)\n",
    "    minimum_errors.append(minimum_error)\n",
    "    optimums.append(optimum)\n",
    "    \n",
    "optimums = np.array(optimums)"
   ]
  },
  {
   "cell_type": "code",
   "execution_count": 19,
   "metadata": {},
   "outputs": [],
   "source": [
    "median_duration = np.median(durations)\n",
    "mean_duration = np.mean(durations)\n",
    "std_duration = np.std(durations)\n",
    "\n",
    "median_minimum_error = np.median(minimum_errors)\n",
    "mean_minimum_error = np.mean(minimum_errors)\n",
    "std_minimum_error = np.std(minimum_errors)\n",
    "\n",
    "median_optimum = np.median(optimums, axis=0)\n",
    "mean_optimum = np.mean(optimums, axis=0)\n",
    "std_optimum = np.std(optimums, axis=0)"
   ]
  },
  {
   "cell_type": "code",
   "execution_count": 20,
   "metadata": {},
   "outputs": [
    {
     "data": {
      "text/html": [
       "<div>\n",
       "<style scoped>\n",
       "    .dataframe tbody tr th:only-of-type {\n",
       "        vertical-align: middle;\n",
       "    }\n",
       "\n",
       "    .dataframe tbody tr th {\n",
       "        vertical-align: top;\n",
       "    }\n",
       "\n",
       "    .dataframe thead th {\n",
       "        text-align: right;\n",
       "    }\n",
       "</style>\n",
       "<table border=\"1\" class=\"dataframe\">\n",
       "  <thead>\n",
       "    <tr style=\"text-align: right;\">\n",
       "      <th></th>\n",
       "      <th>Promedio</th>\n",
       "      <th>Mediana</th>\n",
       "      <th>Desv. Est.</th>\n",
       "    </tr>\n",
       "  </thead>\n",
       "  <tbody>\n",
       "    <tr>\n",
       "      <th>Duración</th>\n",
       "      <td>0.511171</td>\n",
       "      <td>0.502379</td>\n",
       "      <td>0.157143</td>\n",
       "    </tr>\n",
       "    <tr>\n",
       "      <th>Error c.r. Mínimo</th>\n",
       "      <td>0.0</td>\n",
       "      <td>0.0</td>\n",
       "      <td>0.0</td>\n",
       "    </tr>\n",
       "    <tr>\n",
       "      <th>Óptimo</th>\n",
       "      <td>[-3.564216959455066, -4.946098783910625]</td>\n",
       "      <td>[-3.9022491932996117, -3.8580251285997433]</td>\n",
       "      <td>[14.050918134707134, 18.83150083646881]</td>\n",
       "    </tr>\n",
       "  </tbody>\n",
       "</table>\n",
       "</div>"
      ],
      "text/plain": [
       "                                                   Promedio  \\\n",
       "Duración                                           0.511171   \n",
       "Error c.r. Mínimo                                       0.0   \n",
       "Óptimo             [-3.564216959455066, -4.946098783910625]   \n",
       "\n",
       "                                                      Mediana  \\\n",
       "Duración                                             0.502379   \n",
       "Error c.r. Mínimo                                         0.0   \n",
       "Óptimo             [-3.9022491932996117, -3.8580251285997433]   \n",
       "\n",
       "                                                Desv. Est.  \n",
       "Duración                                          0.157143  \n",
       "Error c.r. Mínimo                                      0.0  \n",
       "Óptimo             [14.050918134707134, 18.83150083646881]  "
      ]
     },
     "execution_count": 20,
     "metadata": {},
     "output_type": "execute_result"
    }
   ],
   "source": [
    "# Summary statistics\n",
    "summary = pd.DataFrame({\n",
    "    'Promedio': [mean_duration, mean_minimum_error, median_optimum],\n",
    "    'Mediana': [median_duration, median_minimum_error, mean_optimum],\n",
    "    'Desv. Est.': [std_duration, std_minimum_error, std_optimum]\n",
    "}, index=['Duración', 'Error c.r. Mínimo', 'Óptimo'])\n",
    "\n",
    "summary"
   ]
  },
  {
   "cell_type": "markdown",
   "metadata": {},
   "source": [
    "##### Función Schaffer No. 1"
   ]
  },
  {
   "cell_type": "code",
   "execution_count": 21,
   "metadata": {},
   "outputs": [],
   "source": [
    "objective_function = lambda X: schaffer_no_1(X[0], X[1])\n",
    "actual_minimum = 0\n",
    "\n",
    "durations = []\n",
    "minimum_errors = []\n",
    "optimums = []\n",
    "\n",
    "for i in range(TOTAL_RUNS):\n",
    "    start = time()\n",
    "    optimum, minimum = differential_evolution(objective_function, bounds)\n",
    "    end = time()\n",
    "\n",
    "    duration = end - start\n",
    "    minimum_error = abs(minimum - actual_minimum)\n",
    "    \n",
    "    durations.append(duration)\n",
    "    minimum_errors.append(minimum_error)\n",
    "    optimums.append(optimum)\n",
    "    \n",
    "optimums = np.array(optimums)"
   ]
  },
  {
   "cell_type": "code",
   "execution_count": 25,
   "metadata": {},
   "outputs": [],
   "source": [
    "median_duration = np.median(durations)\n",
    "mean_duration = np.mean(durations)\n",
    "std_duration = np.std(durations)\n",
    "\n",
    "median_minimum_error = np.median(minimum_errors)\n",
    "mean_minimum_error = np.mean(minimum_errors)\n",
    "std_minimum_error = np.std(minimum_errors)\n",
    "\n",
    "median_optimum_error = np.median(optimum_errors)\n",
    "mean_optimum_error = np.mean(optimum_errors)\n",
    "std_optimum_error = np.std(optimum_errors)"
   ]
  },
  {
   "cell_type": "code",
   "execution_count": 26,
   "metadata": {},
   "outputs": [
    {
     "data": {
      "text/html": [
       "<div>\n",
       "<style scoped>\n",
       "    .dataframe tbody tr th:only-of-type {\n",
       "        vertical-align: middle;\n",
       "    }\n",
       "\n",
       "    .dataframe tbody tr th {\n",
       "        vertical-align: top;\n",
       "    }\n",
       "\n",
       "    .dataframe thead th {\n",
       "        text-align: right;\n",
       "    }\n",
       "</style>\n",
       "<table border=\"1\" class=\"dataframe\">\n",
       "  <thead>\n",
       "    <tr style=\"text-align: right;\">\n",
       "      <th></th>\n",
       "      <th>Promedio</th>\n",
       "      <th>Mediana</th>\n",
       "      <th>Desv. Est.</th>\n",
       "    </tr>\n",
       "  </thead>\n",
       "  <tbody>\n",
       "    <tr>\n",
       "      <th>Duración</th>\n",
       "      <td>1.207910e-01</td>\n",
       "      <td>1.208919e-01</td>\n",
       "      <td>2.130545e-02</td>\n",
       "    </tr>\n",
       "    <tr>\n",
       "      <th>Error c.r. Mínimo</th>\n",
       "      <td>3.014743e-09</td>\n",
       "      <td>2.015670e-09</td>\n",
       "      <td>3.223648e-09</td>\n",
       "    </tr>\n",
       "    <tr>\n",
       "      <th>Error c.r. Óptimo</th>\n",
       "      <td>2.232652e-01</td>\n",
       "      <td>2.139516e-01</td>\n",
       "      <td>1.743564e-01</td>\n",
       "    </tr>\n",
       "  </tbody>\n",
       "</table>\n",
       "</div>"
      ],
      "text/plain": [
       "                       Promedio       Mediana    Desv. Est.\n",
       "Duración           1.207910e-01  1.208919e-01  2.130545e-02\n",
       "Error c.r. Mínimo  3.014743e-09  2.015670e-09  3.223648e-09\n",
       "Error c.r. Óptimo  2.232652e-01  2.139516e-01  1.743564e-01"
      ]
     },
     "execution_count": 26,
     "metadata": {},
     "output_type": "execute_result"
    }
   ],
   "source": [
    "# Summary statistics\n",
    "summary = pd.DataFrame({\n",
    "    'Promedio': [mean_duration, mean_minimum_error, mean_optimum_error],\n",
    "    'Mediana': [median_duration, median_minimum_error, median_optimum_error],\n",
    "    'Desv. Est.': [std_duration, std_minimum_error, std_optimum_error]\n",
    "}, index=['Duración', 'Error c.r. Mínimo', 'Error c.r. Óptimo'])\n",
    "\n",
    "summary"
   ]
  }
 ],
 "metadata": {
  "kernelspec": {
   "display_name": "Python 3",
   "language": "python",
   "name": "python3"
  },
  "language_info": {
   "codemirror_mode": {
    "name": "ipython",
    "version": 3
   },
   "file_extension": ".py",
   "mimetype": "text/x-python",
   "name": "python",
   "nbconvert_exporter": "python",
   "pygments_lexer": "ipython3",
   "version": "3.12.3"
  }
 },
 "nbformat": 4,
 "nbformat_minor": 2
}
