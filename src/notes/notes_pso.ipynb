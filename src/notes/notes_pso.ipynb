{
 "cells": [
  {
   "cell_type": "code",
   "execution_count": 11,
   "metadata": {},
   "outputs": [],
   "source": [
    "import pandas as pd\n",
    "import numpy as np\n",
    "from time import time\n",
    "import math\n",
    "\n",
    "from plot.particle_swarm import ParticleSwarm\n",
    "from plot.bounded_function import schaffer2, ripple25, schaffer1, bukin"
   ]
  },
  {
   "cell_type": "code",
   "execution_count": 12,
   "metadata": {},
   "outputs": [],
   "source": [
    "def build_stats_pso(objective_function, TOTAL_RUNS = 20, CLOSE_UMBRAL = 20):\n",
    "    actual_minimum = objective_function.glob_min[1]\n",
    "    actual_optimum = objective_function.glob_min[0]\n",
    "\n",
    "    x1_range = objective_function.range_x1\n",
    "    x2_range = objective_function.range_x2\n",
    "\n",
    "    durations = []\n",
    "    minimum_errors = []\n",
    "    optimum_errors = []\n",
    "\n",
    "    for i in range(TOTAL_RUNS):\n",
    "        pt = ParticleSwarm(100, x1_range, x2_range)\n",
    "        pt.initialize_points()\n",
    "        pt.update_points(objective_function)\n",
    "        values_obtained: list[float] = []\n",
    "        start = time()\n",
    "\n",
    "        values_obtained = []\n",
    "        avg = 0\n",
    "        for i in range(CLOSE_UMBRAL):\n",
    "            pt.update_points(objective_function)\n",
    "            values_obtained.append(pt.best_value)\n",
    "            avg += pt.best_value\n",
    "        avg /= CLOSE_UMBRAL\n",
    "        while True:\n",
    "            pt.update_points(objective_function)\n",
    "            avg *= CLOSE_UMBRAL\n",
    "            avg -= values_obtained[-CLOSE_UMBRAL]\n",
    "            values_obtained.append(pt.best_value)\n",
    "            avg += values_obtained[-1]\n",
    "            avg /= CLOSE_UMBRAL\n",
    "            if abs(avg - values_obtained[-1]) < 1e-8:\n",
    "                break\n",
    "\n",
    "        end = time()\n",
    "\n",
    "        minimum = pt.best_value\n",
    "        optimum = pt.best_pos\n",
    "\n",
    "        duration = end - start\n",
    "        minimum_error = abs(minimum - actual_minimum)\n",
    "        optimum_error = np.linalg.norm(np.array(optimum) - np.array(actual_optimum))\n",
    "\n",
    "        durations.append(duration)\n",
    "        minimum_errors.append(minimum_error)\n",
    "        optimum_errors.append(optimum_error)\n",
    "\n",
    "    median_duration = np.median(durations)\n",
    "    mean_duration = np.mean(durations)\n",
    "    std_duration = np.std(durations)\n",
    "\n",
    "    median_minimum_error = np.median(minimum_errors)\n",
    "    mean_minimum_error = np.mean(minimum_errors)\n",
    "    std_minimum_error = np.std(minimum_errors)\n",
    "\n",
    "    median_optimum = np.median(optimum_errors, axis=0)\n",
    "    mean_optimum = np.mean(optimum_errors, axis=0)\n",
    "    std_optimum = np.std(optimum_errors, axis=0)\n",
    "\n",
    "    summary = pd.DataFrame(\n",
    "        {\n",
    "            \"Promedio\": [mean_duration, mean_minimum_error, median_optimum],\n",
    "            \"Mediana\": [median_duration, median_minimum_error, mean_optimum],\n",
    "            \"Desv. Est.\": [std_duration, std_minimum_error, std_optimum],\n",
    "        },\n",
    "        index=[\"Duración\", \"Error c.r. Mínimo\", \"Error c.r. Óptimo\"],\n",
    "    )\n",
    "    markdown_table = summary.to_markdown(index=True)\n",
    "\n",
    "    # Print the Markdown table\n",
    "    print(f\"Particle Swarm Optimization with function {objective_function.name} and {TOTAL_RUNS} runs\")\n",
    "    print(markdown_table)"
   ]
  },
  {
   "cell_type": "code",
   "execution_count": 13,
   "metadata": {},
   "outputs": [
    {
     "name": "stdout",
     "output_type": "stream",
     "text": [
      "Particle Swarm Optimization with function Bukin and 100 runs\n",
      "|                   |   Promedio |   Mediana |   Desv. Est. |\n",
      "|:------------------|-----------:|----------:|-------------:|\n",
      "| Duración          |  0.379757  | 0.307057  |     0.201252 |\n",
      "| Error c.r. Mínimo |  0.0373831 | 0.0196273 |     0.05534  |\n",
      "| Error c.r. Óptimo |  1.16795   | 1.59538   |     1.18843  |\n"
     ]
    }
   ],
   "source": [
    "summary = build_stats_pso(bukin, 100, 40)\n"
   ]
  }
 ],
 "metadata": {
  "kernelspec": {
   "display_name": "Python 3",
   "language": "python",
   "name": "python3"
  },
  "language_info": {
   "codemirror_mode": {
    "name": "ipython",
    "version": 3
   },
   "file_extension": ".py",
   "mimetype": "text/x-python",
   "name": "python",
   "nbconvert_exporter": "python",
   "pygments_lexer": "ipython3",
   "version": "3.12.3"
  }
 },
 "nbformat": 4,
 "nbformat_minor": 2
}
